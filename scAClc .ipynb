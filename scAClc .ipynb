{
 "cells": [
  {
   "cell_type": "markdown",
   "id": "4a6af6ef-5ae5-4404-93ce-f857079e9c45",
   "metadata": {},
   "source": [
    "## Load required packages"
   ]
  },
  {
   "cell_type": "code",
   "execution_count": 1,
   "id": "de3284a7-a6a2-4e80-863e-b5f2260dd16c",
   "metadata": {},
   "outputs": [],
   "source": [
    "import h5py\n",
    "import numpy as np\n",
    "import scanpy as sc\n",
    "import torch\n",
    "import random\n",
    "\n",
    "from scAClc import run_scaclc\n"
   ]
  },
  {
   "cell_type": "markdown",
   "id": "2a6e1711-a278-4bad-8f32-f7a108923cb7",
   "metadata": {},
   "source": [
    "## Set seed"
   ]
  },
  {
   "cell_type": "code",
   "execution_count": 2,
   "id": "22220318-6e7c-4567-886b-06e228ba6067",
   "metadata": {},
   "outputs": [],
   "source": [
    "seed = 666\n",
    "np.random.seed(seed)\n",
    "random.seed(seed)\n",
    "torch.manual_seed(seed)\n",
    "torch.cuda.manual_seed(seed)\n",
    "torch.cuda.manual_seed_all(seed)\n",
    "\n"
   ]
  },
  {
   "cell_type": "markdown",
   "id": "b35bab70-8a81-46d1-9452-4fc7a8a5ff84",
   "metadata": {},
   "source": [
    "## Read data"
   ]
  },
  {
   "cell_type": "code",
   "execution_count": 3,
   "id": "4dd2fc16-538a-4ad8-96ba-ad4720699c18",
   "metadata": {},
   "outputs": [],
   "source": [
    "# This data could be downloaded from https://drive.google.com/drive/folders/1c33An3HNdJQhazoy_ky9E-lCc3a4y7fl\n",
    "file_path = r'C:\\Users\\ROG\\Downloads\\human_pbmc.h5'\n",
    "data_mat = h5py.File(file_path, 'r')\n",
    "x, y = np.array(data_mat['X']), np.array(data_mat['Y'])\n",
    "data_mat.close()\n",
    "\n",
    "adata = sc.AnnData(x)\n",
    "adata.obs['celltype'] = y"
   ]
  },
  {
   "cell_type": "code",
   "execution_count": 3,
   "id": "6103f355-73a4-4a5c-a9a0-ac628290558c",
   "metadata": {},
   "outputs": [
    {
     "name": "stdout",
     "output_type": "stream",
     "text": [
      "成功创建 AnnData 对象，adata 基本信息：\n",
      "AnnData object with n_obs × n_vars = 2122 × 19046\n",
      "    obs: 'celltype'\n"
     ]
    }
   ],
   "source": [
    "import h5py\n",
    "import numpy as np\n",
    "import scanpy as sc\n",
    "from scipy.sparse import csr_matrix\n",
    "\n",
    "def read_sparse_matrix(file_path):\n",
    "    \"\"\"\n",
    "    从 HDF5 文件中读取稀疏矩阵数据并转换为密集矩阵\n",
    "    \"\"\"\n",
    "    data_mat = h5py.File(file_path, 'r')\n",
    "    data = np.array(data_mat['exprs']['data'])\n",
    "    indices = np.array(data_mat['exprs']['indices'])\n",
    "    indptr = np.array(data_mat['exprs']['indptr'])\n",
    "    shape = tuple(np.array(data_mat['exprs']['shape']))\n",
    "    sparse_matrix = csr_matrix((data, indices, indptr), shape=shape)\n",
    "    data_mat.close()\n",
    "    return sparse_matrix.toarray()\n",
    "\n",
    "def read_labels(file_path):\n",
    "    \"\"\"\n",
    "    从 HDF5 文件中读取标签信息\n",
    "    \"\"\"\n",
    "    data_mat = h5py.File(file_path, 'r')\n",
    "    obs = data_mat['obs']\n",
    "    cell_name = np.array(obs['cell_type1'])\n",
    "    cell_type, y = np.unique(cell_name, return_inverse=True)\n",
    "    data_mat.close()\n",
    "    return y\n",
    "\n",
    "file_path = r'C:\\Users\\ROG\\数据包\\20 datasets\\Muraro\\data.h5'\n",
    "#file_path = r'C:\\Users\\ROG\\Downloads\\Mouse_k.h5'\n",
    "# 读取稀疏矩阵数据\n",
    "x = read_sparse_matrix(file_path)\n",
    "\n",
    "# 读取标签信息\n",
    "y = read_labels(file_path)\n",
    "\n",
    "# 显式指定数据类型\n",
    "adata = sc.AnnData(x, dtype=x.dtype)\n",
    "\n",
    "# 转换 adata.X 的数据类型为 float64\n",
    "adata.X = adata.X.astype(np.float64)\n",
    "\n",
    "# 确保标签长度和数据行数一致\n",
    "if len(y) != adata.n_obs:\n",
    "    print(f\"标签长度 {len(y)} 与数据行数 {adata.n_obs} 不一致，请检查数据。\")\n",
    "else:\n",
    "    adata.obs['celltype'] = y\n",
    "\n",
    "print(\"成功创建 AnnData 对象，adata 基本信息：\")\n",
    "print(adata)"
   ]
  },
  {
   "cell_type": "markdown",
   "id": "ddca476f-9c28-4658-87d9-51b20b9a79ad",
   "metadata": {},
   "source": [
    "## Perform data pre-processing"
   ]
  },
  {
   "cell_type": "code",
   "execution_count": 4,
   "id": "a1f7691e-b86d-404a-a946-ecf1080692a9",
   "metadata": {},
   "outputs": [],
   "source": [
    "sc.pp.filter_genes(adata, min_cells=3)\n",
    "sc.pp.filter_cells(adata, min_genes=200)\n",
    "adata.raw = adata.copy()\n",
    "\n",
    "sc.pp.normalize_per_cell(adata)\n",
    "adata.obs['scale_factor'] = adata.obs.n_counts / adata.obs.n_counts.mean()\n",
    "\n",
    "sc.pp.log1p(adata)\n",
    "#sc.pp.scale(adata)"
   ]
  },
  {
   "cell_type": "code",
   "execution_count": 5,
   "id": "6fbee8f1-5001-4f4e-b74e-6407a616b80f",
   "metadata": {},
   "outputs": [
    {
     "data": {
      "text/plain": [
       "AnnData object with n_obs × n_vars = 4271 × 16486\n",
       "    obs: 'celltype', 'n_genes', 'n_counts', 'scale_factor'\n",
       "    var: 'n_cells'\n",
       "    uns: 'log1p'"
      ]
     },
     "execution_count": 5,
     "metadata": {},
     "output_type": "execute_result"
    }
   ],
   "source": [
    "adata"
   ]
  },
  {
   "cell_type": "markdown",
   "id": "f2681c36-5291-41b6-9900-6d68514f7d00",
   "metadata": {},
   "source": [
    "## Run scAClc"
   ]
  },
  {
   "cell_type": "markdown",
   "id": "20c4f0b6-1907-458b-a8db-df5eed353e54",
   "metadata": {},
   "source": [
    "In default mode, function `run_scaclc` would return an AnnData object with embedding and clustering result stored in `adata.obsm['scaclc_emb']` and `adata.obs['scaclc_cluster']`"
   ]
  },
  {
   "cell_type": "code",
   "execution_count": 6,
   "id": "4b35c0be-e950-4a61-bfaa-645a283088d4",
   "metadata": {},
   "outputs": [],
   "source": [
    "# adata = run_scaclc(adata)"
   ]
  },
  {
   "cell_type": "markdown",
   "id": "9f899136-463a-4370-bef5-81cfd52a639f",
   "metadata": {},
   "source": [
    "If return_all is True, function `run_scaclc` would print and return all temporate results:\n",
    "\n",
    "- K: Final number of clusters.\n",
    "- pred_all: All temporary clustering results.\n",
    "- emb_all: All temporary embedding.\n"
   ]
  },
  {
   "cell_type": "code",
   "execution_count": 7,
   "id": "6d747efb-4e95-4dd8-ba1c-9f96ccadf997",
   "metadata": {},
   "outputs": [],
   "source": [
    "# adata, K, pred_all, emb_all, run_time = run_scaclc(adata, return_all=True)"
   ]
  },
  {
   "cell_type": "markdown",
   "id": "8ac85e53-545a-431b-bb80-afbb166fd181",
   "metadata": {},
   "source": [
    "If the key of grount truth cell type (i.e. `cl_type`) is also provided, ARI and NMI will also be returned."
   ]
  },
  {
   "cell_type": "code",
   "execution_count": 8,
   "id": "e904dfda-0a80-4743-8beb-ee28d6e1513e",
   "metadata": {
    "tags": []
   },
   "outputs": [
    {
     "name": "stdout",
     "output_type": "stream",
     "text": [
      ">>> Feature selection (HVGs and RFGs) in progress...\n",
      ">>> Identification of HVGs is currently in progress...\n",
      ">>> Identified 3000 Highly Variable Genes.\n",
      ">>> Identification of RFGs is currently in progress...\n",
      ">>> Identified 3000 Random Forest based Genes.\n",
      ">>> Total selected genes: 5265\n",
      ">>> adata filtered to 5265 genes.\n",
      ">>> adata.raw also filtered to 5265 genes.\n",
      "Start pre-training! Total epochs is 200.\n"
     ]
    },
    {
     "name": "stderr",
     "output_type": "stream",
     "text": [
      "Pre-training::   0%|▎                                                               | 1/200 [00:03<13:03,  3.94s/epoch]"
     ]
    },
    {
     "name": "stdout",
     "output_type": "stream",
     "text": [
      "Pre-training epoch [1/200]. Average ZINB loss:0.8301, kld loss:8.5946, total loss:0.8387\n"
     ]
    },
    {
     "name": "stderr",
     "output_type": "stream",
     "text": [
      "Pre-training::   1%|▋                                                               | 2/200 [00:05<07:38,  2.32s/epoch]"
     ]
    },
    {
     "name": "stdout",
     "output_type": "stream",
     "text": [
      "Pre-training epoch [2/200]. Average ZINB loss:0.6364, kld loss:26.7377, total loss:0.6632\n"
     ]
    },
    {
     "name": "stderr",
     "output_type": "stream",
     "text": [
      "Pre-training::   2%|▉                                                               | 3/200 [00:06<05:56,  1.81s/epoch]"
     ]
    },
    {
     "name": "stdout",
     "output_type": "stream",
     "text": [
      "Pre-training epoch [3/200]. Average ZINB loss:0.5763, kld loss:25.9126, total loss:0.6023\n"
     ]
    },
    {
     "name": "stderr",
     "output_type": "stream",
     "text": [
      "Pre-training::   2%|█▎                                                              | 4/200 [00:07<05:03,  1.55s/epoch]"
     ]
    },
    {
     "name": "stdout",
     "output_type": "stream",
     "text": [
      "Pre-training epoch [4/200]. Average ZINB loss:0.5547, kld loss:24.4990, total loss:0.5792\n"
     ]
    },
    {
     "name": "stderr",
     "output_type": "stream",
     "text": [
      "Pre-training::   2%|█▌                                                              | 5/200 [00:08<04:33,  1.40s/epoch]"
     ]
    },
    {
     "name": "stdout",
     "output_type": "stream",
     "text": [
      "Pre-training epoch [5/200]. Average ZINB loss:0.5433, kld loss:22.3323, total loss:0.5656\n"
     ]
    },
    {
     "name": "stderr",
     "output_type": "stream",
     "text": [
      "Pre-training::   3%|█▉                                                              | 6/200 [00:09<04:08,  1.28s/epoch]"
     ]
    },
    {
     "name": "stdout",
     "output_type": "stream",
     "text": [
      "Pre-training epoch [6/200]. Average ZINB loss:0.5337, kld loss:21.3498, total loss:0.5551\n"
     ]
    },
    {
     "name": "stderr",
     "output_type": "stream",
     "text": [
      "Pre-training::   4%|██▏                                                             | 7/200 [00:10<03:58,  1.24s/epoch]"
     ]
    },
    {
     "name": "stdout",
     "output_type": "stream",
     "text": [
      "Pre-training epoch [7/200]. Average ZINB loss:0.5257, kld loss:20.7917, total loss:0.5464\n"
     ]
    },
    {
     "name": "stderr",
     "output_type": "stream",
     "text": [
      "Pre-training::   4%|██▌                                                             | 8/200 [00:11<03:52,  1.21s/epoch]"
     ]
    },
    {
     "name": "stdout",
     "output_type": "stream",
     "text": [
      "Pre-training epoch [8/200]. Average ZINB loss:0.5202, kld loss:19.8649, total loss:0.5400\n"
     ]
    },
    {
     "name": "stderr",
     "output_type": "stream",
     "text": [
      "Pre-training::   4%|██▉                                                             | 9/200 [00:13<03:49,  1.20s/epoch]"
     ]
    },
    {
     "name": "stdout",
     "output_type": "stream",
     "text": [
      "Pre-training epoch [9/200]. Average ZINB loss:0.5162, kld loss:18.7885, total loss:0.5350\n"
     ]
    },
    {
     "name": "stderr",
     "output_type": "stream",
     "text": [
      "Pre-training::   5%|███▏                                                           | 10/200 [00:14<03:50,  1.21s/epoch]"
     ]
    },
    {
     "name": "stdout",
     "output_type": "stream",
     "text": [
      "Pre-training epoch [10/200]. Average ZINB loss:0.5132, kld loss:17.9963, total loss:0.5312\n"
     ]
    },
    {
     "name": "stderr",
     "output_type": "stream",
     "text": [
      "Pre-training::   6%|███▍                                                           | 11/200 [00:15<03:48,  1.21s/epoch]"
     ]
    },
    {
     "name": "stdout",
     "output_type": "stream",
     "text": [
      "Pre-training epoch [11/200]. Average ZINB loss:0.5099, kld loss:17.6036, total loss:0.5275\n"
     ]
    },
    {
     "name": "stderr",
     "output_type": "stream",
     "text": [
      "Pre-training::   6%|███▊                                                           | 12/200 [00:16<03:49,  1.22s/epoch]"
     ]
    },
    {
     "name": "stdout",
     "output_type": "stream",
     "text": [
      "Pre-training epoch [12/200]. Average ZINB loss:0.5077, kld loss:17.1750, total loss:0.5248\n"
     ]
    },
    {
     "name": "stderr",
     "output_type": "stream",
     "text": [
      "Pre-training::   6%|████                                                           | 13/200 [00:18<03:51,  1.24s/epoch]"
     ]
    },
    {
     "name": "stdout",
     "output_type": "stream",
     "text": [
      "Pre-training epoch [13/200]. Average ZINB loss:0.5054, kld loss:16.8785, total loss:0.5223\n"
     ]
    },
    {
     "name": "stderr",
     "output_type": "stream",
     "text": [
      "Pre-training::   7%|████▍                                                          | 14/200 [00:19<03:53,  1.25s/epoch]"
     ]
    },
    {
     "name": "stdout",
     "output_type": "stream",
     "text": [
      "Pre-training epoch [14/200]. Average ZINB loss:0.5035, kld loss:16.4853, total loss:0.5200\n"
     ]
    },
    {
     "name": "stderr",
     "output_type": "stream",
     "text": [
      "Pre-training::   8%|████▋                                                          | 15/200 [00:20<03:50,  1.25s/epoch]"
     ]
    },
    {
     "name": "stdout",
     "output_type": "stream",
     "text": [
      "Pre-training epoch [15/200]. Average ZINB loss:0.5019, kld loss:16.2803, total loss:0.5182\n"
     ]
    },
    {
     "name": "stderr",
     "output_type": "stream",
     "text": [
      "Pre-training::   8%|█████                                                          | 16/200 [00:21<03:49,  1.25s/epoch]"
     ]
    },
    {
     "name": "stdout",
     "output_type": "stream",
     "text": [
      "Pre-training epoch [16/200]. Average ZINB loss:0.5006, kld loss:15.8744, total loss:0.5164\n"
     ]
    },
    {
     "name": "stderr",
     "output_type": "stream",
     "text": [
      "Pre-training::   8%|█████▎                                                         | 17/200 [00:23<03:46,  1.24s/epoch]"
     ]
    },
    {
     "name": "stdout",
     "output_type": "stream",
     "text": [
      "Pre-training epoch [17/200]. Average ZINB loss:0.4991, kld loss:15.5562, total loss:0.5147\n"
     ]
    },
    {
     "name": "stderr",
     "output_type": "stream",
     "text": [
      "Pre-training::   9%|█████▋                                                         | 18/200 [00:24<03:43,  1.23s/epoch]"
     ]
    },
    {
     "name": "stdout",
     "output_type": "stream",
     "text": [
      "Pre-training epoch [18/200]. Average ZINB loss:0.4983, kld loss:15.5075, total loss:0.5138\n"
     ]
    },
    {
     "name": "stderr",
     "output_type": "stream",
     "text": [
      "Pre-training::  10%|█████▉                                                         | 19/200 [00:25<03:44,  1.24s/epoch]"
     ]
    },
    {
     "name": "stdout",
     "output_type": "stream",
     "text": [
      "Pre-training epoch [19/200]. Average ZINB loss:0.4972, kld loss:15.4725, total loss:0.5126\n"
     ]
    },
    {
     "name": "stderr",
     "output_type": "stream",
     "text": [
      "Pre-training::  10%|██████▎                                                        | 20/200 [00:26<03:45,  1.25s/epoch]"
     ]
    },
    {
     "name": "stdout",
     "output_type": "stream",
     "text": [
      "Pre-training epoch [20/200]. Average ZINB loss:0.4965, kld loss:15.2222, total loss:0.5118\n"
     ]
    },
    {
     "name": "stderr",
     "output_type": "stream",
     "text": [
      "Pre-training::  10%|██████▌                                                        | 21/200 [00:28<03:44,  1.26s/epoch]"
     ]
    },
    {
     "name": "stdout",
     "output_type": "stream",
     "text": [
      "Pre-training epoch [21/200]. Average ZINB loss:0.4955, kld loss:14.9681, total loss:0.5104\n"
     ]
    },
    {
     "name": "stderr",
     "output_type": "stream",
     "text": [
      "Pre-training::  11%|██████▉                                                        | 22/200 [00:29<03:45,  1.27s/epoch]"
     ]
    },
    {
     "name": "stdout",
     "output_type": "stream",
     "text": [
      "Pre-training epoch [22/200]. Average ZINB loss:0.4951, kld loss:14.7283, total loss:0.5098\n"
     ]
    },
    {
     "name": "stderr",
     "output_type": "stream",
     "text": [
      "Pre-training::  12%|███████▏                                                       | 23/200 [00:30<03:43,  1.27s/epoch]"
     ]
    },
    {
     "name": "stdout",
     "output_type": "stream",
     "text": [
      "Pre-training epoch [23/200]. Average ZINB loss:0.4940, kld loss:14.6492, total loss:0.5087\n"
     ]
    },
    {
     "name": "stderr",
     "output_type": "stream",
     "text": [
      "Pre-training::  12%|███████▌                                                       | 24/200 [00:31<03:41,  1.26s/epoch]"
     ]
    },
    {
     "name": "stdout",
     "output_type": "stream",
     "text": [
      "Pre-training epoch [24/200]. Average ZINB loss:0.4940, kld loss:14.5600, total loss:0.5086\n"
     ]
    },
    {
     "name": "stderr",
     "output_type": "stream",
     "text": [
      "Pre-training::  12%|███████▉                                                       | 25/200 [00:33<03:40,  1.26s/epoch]"
     ]
    },
    {
     "name": "stdout",
     "output_type": "stream",
     "text": [
      "Pre-training epoch [25/200]. Average ZINB loss:0.4931, kld loss:14.3816, total loss:0.5075\n"
     ]
    },
    {
     "name": "stderr",
     "output_type": "stream",
     "text": [
      "Pre-training::  13%|████████▏                                                      | 26/200 [00:34<03:39,  1.26s/epoch]"
     ]
    },
    {
     "name": "stdout",
     "output_type": "stream",
     "text": [
      "Pre-training epoch [26/200]. Average ZINB loss:0.4927, kld loss:14.3417, total loss:0.5070\n"
     ]
    },
    {
     "name": "stderr",
     "output_type": "stream",
     "text": [
      "Pre-training::  14%|████████▌                                                      | 27/200 [00:35<03:37,  1.26s/epoch]"
     ]
    },
    {
     "name": "stdout",
     "output_type": "stream",
     "text": [
      "Pre-training epoch [27/200]. Average ZINB loss:0.4922, kld loss:14.0829, total loss:0.5062\n"
     ]
    },
    {
     "name": "stderr",
     "output_type": "stream",
     "text": [
      "Pre-training::  14%|████████▊                                                      | 28/200 [00:36<03:35,  1.25s/epoch]"
     ]
    },
    {
     "name": "stdout",
     "output_type": "stream",
     "text": [
      "Pre-training epoch [28/200]. Average ZINB loss:0.4917, kld loss:13.9912, total loss:0.5056\n"
     ]
    },
    {
     "name": "stderr",
     "output_type": "stream",
     "text": [
      "Pre-training::  14%|█████████▏                                                     | 29/200 [00:38<03:33,  1.25s/epoch]"
     ]
    },
    {
     "name": "stdout",
     "output_type": "stream",
     "text": [
      "Pre-training epoch [29/200]. Average ZINB loss:0.4912, kld loss:13.8882, total loss:0.5051\n"
     ]
    },
    {
     "name": "stderr",
     "output_type": "stream",
     "text": [
      "Pre-training::  15%|█████████▍                                                     | 30/200 [00:39<03:30,  1.24s/epoch]"
     ]
    },
    {
     "name": "stdout",
     "output_type": "stream",
     "text": [
      "Pre-training epoch [30/200]. Average ZINB loss:0.4915, kld loss:13.8121, total loss:0.5053\n"
     ]
    },
    {
     "name": "stderr",
     "output_type": "stream",
     "text": [
      "Pre-training::  16%|█████████▊                                                     | 31/200 [00:40<03:30,  1.25s/epoch]"
     ]
    },
    {
     "name": "stdout",
     "output_type": "stream",
     "text": [
      "Pre-training epoch [31/200]. Average ZINB loss:0.4906, kld loss:13.8824, total loss:0.5045\n"
     ]
    },
    {
     "name": "stderr",
     "output_type": "stream",
     "text": [
      "Pre-training::  16%|██████████                                                     | 32/200 [00:41<03:29,  1.25s/epoch]"
     ]
    },
    {
     "name": "stdout",
     "output_type": "stream",
     "text": [
      "Pre-training epoch [32/200]. Average ZINB loss:0.4903, kld loss:13.6878, total loss:0.5040\n"
     ]
    },
    {
     "name": "stderr",
     "output_type": "stream",
     "text": [
      "Pre-training::  16%|██████████▍                                                    | 33/200 [00:43<03:26,  1.23s/epoch]"
     ]
    },
    {
     "name": "stdout",
     "output_type": "stream",
     "text": [
      "Pre-training epoch [33/200]. Average ZINB loss:0.4899, kld loss:13.7557, total loss:0.5036\n"
     ]
    },
    {
     "name": "stderr",
     "output_type": "stream",
     "text": [
      "Pre-training::  17%|██████████▋                                                    | 34/200 [00:44<03:24,  1.23s/epoch]"
     ]
    },
    {
     "name": "stdout",
     "output_type": "stream",
     "text": [
      "Pre-training epoch [34/200]. Average ZINB loss:0.4897, kld loss:13.6610, total loss:0.5033\n"
     ]
    },
    {
     "name": "stderr",
     "output_type": "stream",
     "text": [
      "Pre-training::  18%|███████████                                                    | 35/200 [00:45<03:22,  1.23s/epoch]"
     ]
    },
    {
     "name": "stdout",
     "output_type": "stream",
     "text": [
      "Pre-training epoch [35/200]. Average ZINB loss:0.4890, kld loss:13.5427, total loss:0.5026\n"
     ]
    },
    {
     "name": "stderr",
     "output_type": "stream",
     "text": [
      "Pre-training::  18%|███████████▎                                                   | 36/200 [00:46<03:23,  1.24s/epoch]"
     ]
    },
    {
     "name": "stdout",
     "output_type": "stream",
     "text": [
      "Pre-training epoch [36/200]. Average ZINB loss:0.4888, kld loss:13.4960, total loss:0.5023\n"
     ]
    },
    {
     "name": "stderr",
     "output_type": "stream",
     "text": [
      "Pre-training::  18%|███████████▋                                                   | 37/200 [00:48<03:21,  1.24s/epoch]"
     ]
    },
    {
     "name": "stdout",
     "output_type": "stream",
     "text": [
      "Pre-training epoch [37/200]. Average ZINB loss:0.4884, kld loss:13.4039, total loss:0.5018\n"
     ]
    },
    {
     "name": "stderr",
     "output_type": "stream",
     "text": [
      "Pre-training::  19%|███████████▉                                                   | 38/200 [00:49<03:21,  1.25s/epoch]"
     ]
    },
    {
     "name": "stdout",
     "output_type": "stream",
     "text": [
      "Pre-training epoch [38/200]. Average ZINB loss:0.4883, kld loss:13.3543, total loss:0.5016\n"
     ]
    },
    {
     "name": "stderr",
     "output_type": "stream",
     "text": [
      "Pre-training::  20%|████████████▎                                                  | 39/200 [00:50<03:20,  1.24s/epoch]"
     ]
    },
    {
     "name": "stdout",
     "output_type": "stream",
     "text": [
      "Pre-training epoch [39/200]. Average ZINB loss:0.4880, kld loss:13.2376, total loss:0.5013\n"
     ]
    },
    {
     "name": "stderr",
     "output_type": "stream",
     "text": [
      "Pre-training::  20%|████████████▌                                                  | 40/200 [00:51<03:19,  1.25s/epoch]"
     ]
    },
    {
     "name": "stdout",
     "output_type": "stream",
     "text": [
      "Pre-training epoch [40/200]. Average ZINB loss:0.4880, kld loss:13.1192, total loss:0.5011\n"
     ]
    },
    {
     "name": "stderr",
     "output_type": "stream",
     "text": [
      "Pre-training::  20%|████████████▉                                                  | 41/200 [00:53<03:18,  1.25s/epoch]"
     ]
    },
    {
     "name": "stdout",
     "output_type": "stream",
     "text": [
      "Pre-training epoch [41/200]. Average ZINB loss:0.4873, kld loss:13.2614, total loss:0.5006\n"
     ]
    },
    {
     "name": "stderr",
     "output_type": "stream",
     "text": [
      "Pre-training::  21%|█████████████▏                                                 | 42/200 [00:54<03:15,  1.23s/epoch]"
     ]
    },
    {
     "name": "stdout",
     "output_type": "stream",
     "text": [
      "Pre-training epoch [42/200]. Average ZINB loss:0.4870, kld loss:13.1016, total loss:0.5001\n"
     ]
    },
    {
     "name": "stderr",
     "output_type": "stream",
     "text": [
      "Pre-training::  22%|█████████████▌                                                 | 43/200 [00:55<03:13,  1.23s/epoch]"
     ]
    },
    {
     "name": "stdout",
     "output_type": "stream",
     "text": [
      "Pre-training epoch [43/200]. Average ZINB loss:0.4866, kld loss:13.1167, total loss:0.4998\n"
     ]
    },
    {
     "name": "stderr",
     "output_type": "stream",
     "text": [
      "Pre-training::  22%|█████████████▊                                                 | 44/200 [00:56<03:12,  1.24s/epoch]"
     ]
    },
    {
     "name": "stdout",
     "output_type": "stream",
     "text": [
      "Pre-training epoch [44/200]. Average ZINB loss:0.4867, kld loss:12.9685, total loss:0.4996\n"
     ]
    },
    {
     "name": "stderr",
     "output_type": "stream",
     "text": [
      "Pre-training::  22%|██████████████▏                                                | 45/200 [00:57<03:11,  1.24s/epoch]"
     ]
    },
    {
     "name": "stdout",
     "output_type": "stream",
     "text": [
      "Pre-training epoch [45/200]. Average ZINB loss:0.4862, kld loss:12.8782, total loss:0.4990\n"
     ]
    },
    {
     "name": "stderr",
     "output_type": "stream",
     "text": [
      "Pre-training::  23%|██████████████▍                                                | 46/200 [00:59<03:08,  1.22s/epoch]"
     ]
    },
    {
     "name": "stdout",
     "output_type": "stream",
     "text": [
      "Pre-training epoch [46/200]. Average ZINB loss:0.4860, kld loss:12.9260, total loss:0.4990\n"
     ]
    },
    {
     "name": "stderr",
     "output_type": "stream",
     "text": [
      "Pre-training::  24%|██████████████▊                                                | 47/200 [01:00<03:06,  1.22s/epoch]"
     ]
    },
    {
     "name": "stdout",
     "output_type": "stream",
     "text": [
      "Pre-training epoch [47/200]. Average ZINB loss:0.4858, kld loss:12.9491, total loss:0.4988\n"
     ]
    },
    {
     "name": "stderr",
     "output_type": "stream",
     "text": [
      "Pre-training::  24%|███████████████                                                | 48/200 [01:01<03:03,  1.21s/epoch]"
     ]
    },
    {
     "name": "stdout",
     "output_type": "stream",
     "text": [
      "Pre-training epoch [48/200]. Average ZINB loss:0.4855, kld loss:12.8672, total loss:0.4983\n"
     ]
    },
    {
     "name": "stderr",
     "output_type": "stream",
     "text": [
      "Pre-training::  24%|███████████████▍                                               | 49/200 [01:02<03:02,  1.21s/epoch]"
     ]
    },
    {
     "name": "stdout",
     "output_type": "stream",
     "text": [
      "Pre-training epoch [49/200]. Average ZINB loss:0.4852, kld loss:12.7997, total loss:0.4980\n"
     ]
    },
    {
     "name": "stderr",
     "output_type": "stream",
     "text": [
      "Pre-training::  25%|███████████████▊                                               | 50/200 [01:03<03:00,  1.20s/epoch]"
     ]
    },
    {
     "name": "stdout",
     "output_type": "stream",
     "text": [
      "Pre-training epoch [50/200]. Average ZINB loss:0.4851, kld loss:12.4938, total loss:0.4976\n"
     ]
    },
    {
     "name": "stderr",
     "output_type": "stream",
     "text": [
      "Pre-training::  26%|████████████████                                               | 51/200 [01:05<02:56,  1.18s/epoch]"
     ]
    },
    {
     "name": "stdout",
     "output_type": "stream",
     "text": [
      "Pre-training epoch [51/200]. Average ZINB loss:0.4848, kld loss:12.4596, total loss:0.4973\n"
     ]
    },
    {
     "name": "stderr",
     "output_type": "stream",
     "text": [
      "Pre-training::  26%|████████████████▍                                              | 52/200 [01:06<02:56,  1.19s/epoch]"
     ]
    },
    {
     "name": "stdout",
     "output_type": "stream",
     "text": [
      "Pre-training epoch [52/200]. Average ZINB loss:0.4848, kld loss:12.5493, total loss:0.4973\n"
     ]
    },
    {
     "name": "stderr",
     "output_type": "stream",
     "text": [
      "Pre-training::  26%|████████████████▋                                              | 53/200 [01:07<02:54,  1.19s/epoch]"
     ]
    },
    {
     "name": "stdout",
     "output_type": "stream",
     "text": [
      "Pre-training epoch [53/200]. Average ZINB loss:0.4846, kld loss:12.5776, total loss:0.4972\n"
     ]
    },
    {
     "name": "stderr",
     "output_type": "stream",
     "text": [
      "Pre-training::  27%|█████████████████                                              | 54/200 [01:08<02:54,  1.19s/epoch]"
     ]
    },
    {
     "name": "stdout",
     "output_type": "stream",
     "text": [
      "Pre-training epoch [54/200]. Average ZINB loss:0.4847, kld loss:12.3805, total loss:0.4971\n"
     ]
    },
    {
     "name": "stderr",
     "output_type": "stream",
     "text": [
      "Pre-training::  28%|█████████████████▎                                             | 55/200 [01:09<02:52,  1.19s/epoch]"
     ]
    },
    {
     "name": "stdout",
     "output_type": "stream",
     "text": [
      "Pre-training epoch [55/200]. Average ZINB loss:0.4843, kld loss:12.2008, total loss:0.4965\n"
     ]
    },
    {
     "name": "stderr",
     "output_type": "stream",
     "text": [
      "Pre-training::  28%|█████████████████▋                                             | 56/200 [01:11<02:51,  1.19s/epoch]"
     ]
    },
    {
     "name": "stdout",
     "output_type": "stream",
     "text": [
      "Pre-training epoch [56/200]. Average ZINB loss:0.4842, kld loss:12.2867, total loss:0.4965\n"
     ]
    },
    {
     "name": "stderr",
     "output_type": "stream",
     "text": [
      "Pre-training::  28%|█████████████████▉                                             | 57/200 [01:12<02:52,  1.21s/epoch]"
     ]
    },
    {
     "name": "stdout",
     "output_type": "stream",
     "text": [
      "Pre-training epoch [57/200]. Average ZINB loss:0.4836, kld loss:12.2285, total loss:0.4959\n"
     ]
    },
    {
     "name": "stderr",
     "output_type": "stream",
     "text": [
      "Pre-training::  29%|██████████████████▎                                            | 58/200 [01:13<02:52,  1.21s/epoch]"
     ]
    },
    {
     "name": "stdout",
     "output_type": "stream",
     "text": [
      "Pre-training epoch [58/200]. Average ZINB loss:0.4835, kld loss:12.1019, total loss:0.4956\n"
     ]
    },
    {
     "name": "stderr",
     "output_type": "stream",
     "text": [
      "Pre-training::  30%|██████████████████▌                                            | 59/200 [01:14<02:52,  1.22s/epoch]"
     ]
    },
    {
     "name": "stdout",
     "output_type": "stream",
     "text": [
      "Pre-training epoch [59/200]. Average ZINB loss:0.4835, kld loss:12.0574, total loss:0.4955\n"
     ]
    },
    {
     "name": "stderr",
     "output_type": "stream",
     "text": [
      "Pre-training::  30%|██████████████████▉                                            | 60/200 [01:15<02:49,  1.21s/epoch]"
     ]
    },
    {
     "name": "stdout",
     "output_type": "stream",
     "text": [
      "Pre-training epoch [60/200]. Average ZINB loss:0.4832, kld loss:12.1556, total loss:0.4954\n"
     ]
    },
    {
     "name": "stderr",
     "output_type": "stream",
     "text": [
      "Pre-training::  30%|███████████████████▏                                           | 61/200 [01:17<02:48,  1.21s/epoch]"
     ]
    },
    {
     "name": "stdout",
     "output_type": "stream",
     "text": [
      "Pre-training epoch [61/200]. Average ZINB loss:0.4833, kld loss:12.0382, total loss:0.4953\n"
     ]
    },
    {
     "name": "stderr",
     "output_type": "stream",
     "text": [
      "Pre-training::  31%|███████████████████▌                                           | 62/200 [01:18<02:47,  1.21s/epoch]"
     ]
    },
    {
     "name": "stdout",
     "output_type": "stream",
     "text": [
      "Pre-training epoch [62/200]. Average ZINB loss:0.4829, kld loss:12.0168, total loss:0.4949\n"
     ]
    },
    {
     "name": "stderr",
     "output_type": "stream",
     "text": [
      "Pre-training::  32%|███████████████████▊                                           | 63/200 [01:19<02:48,  1.23s/epoch]"
     ]
    },
    {
     "name": "stdout",
     "output_type": "stream",
     "text": [
      "Pre-training epoch [63/200]. Average ZINB loss:0.4829, kld loss:11.8640, total loss:0.4947\n"
     ]
    },
    {
     "name": "stderr",
     "output_type": "stream",
     "text": [
      "Pre-training::  32%|████████████████████▏                                          | 64/200 [01:20<02:48,  1.24s/epoch]"
     ]
    },
    {
     "name": "stdout",
     "output_type": "stream",
     "text": [
      "Pre-training epoch [64/200]. Average ZINB loss:0.4826, kld loss:11.8505, total loss:0.4944\n"
     ]
    },
    {
     "name": "stderr",
     "output_type": "stream",
     "text": [
      "Pre-training::  32%|████████████████████▍                                          | 65/200 [01:22<02:46,  1.23s/epoch]"
     ]
    },
    {
     "name": "stdout",
     "output_type": "stream",
     "text": [
      "Pre-training epoch [65/200]. Average ZINB loss:0.4824, kld loss:11.7808, total loss:0.4942\n"
     ]
    },
    {
     "name": "stderr",
     "output_type": "stream",
     "text": [
      "Pre-training::  33%|████████████████████▊                                          | 66/200 [01:23<02:45,  1.24s/epoch]"
     ]
    },
    {
     "name": "stdout",
     "output_type": "stream",
     "text": [
      "Pre-training epoch [66/200]. Average ZINB loss:0.4819, kld loss:11.9568, total loss:0.4938\n"
     ]
    },
    {
     "name": "stderr",
     "output_type": "stream",
     "text": [
      "Pre-training::  34%|█████████████████████                                          | 67/200 [01:24<02:43,  1.23s/epoch]"
     ]
    },
    {
     "name": "stdout",
     "output_type": "stream",
     "text": [
      "Pre-training epoch [67/200]. Average ZINB loss:0.4821, kld loss:11.6236, total loss:0.4937\n"
     ]
    },
    {
     "name": "stderr",
     "output_type": "stream",
     "text": [
      "Pre-training::  34%|█████████████████████▍                                         | 68/200 [01:25<02:42,  1.23s/epoch]"
     ]
    },
    {
     "name": "stdout",
     "output_type": "stream",
     "text": [
      "Pre-training epoch [68/200]. Average ZINB loss:0.4823, kld loss:11.7291, total loss:0.4940\n"
     ]
    },
    {
     "name": "stderr",
     "output_type": "stream",
     "text": [
      "Pre-training::  34%|█████████████████████▋                                         | 69/200 [01:27<02:38,  1.21s/epoch]"
     ]
    },
    {
     "name": "stdout",
     "output_type": "stream",
     "text": [
      "Pre-training epoch [69/200]. Average ZINB loss:0.4819, kld loss:11.6266, total loss:0.4935\n"
     ]
    },
    {
     "name": "stderr",
     "output_type": "stream",
     "text": [
      "Pre-training::  35%|██████████████████████                                         | 70/200 [01:28<02:37,  1.21s/epoch]"
     ]
    },
    {
     "name": "stdout",
     "output_type": "stream",
     "text": [
      "Pre-training epoch [70/200]. Average ZINB loss:0.4816, kld loss:11.5922, total loss:0.4932\n"
     ]
    },
    {
     "name": "stderr",
     "output_type": "stream",
     "text": [
      "Pre-training::  36%|██████████████████████▎                                        | 71/200 [01:29<02:38,  1.23s/epoch]"
     ]
    },
    {
     "name": "stdout",
     "output_type": "stream",
     "text": [
      "Pre-training epoch [71/200]. Average ZINB loss:0.4815, kld loss:11.5730, total loss:0.4931\n"
     ]
    },
    {
     "name": "stderr",
     "output_type": "stream",
     "text": [
      "Pre-training::  36%|██████████████████████▋                                        | 72/200 [01:30<02:36,  1.22s/epoch]"
     ]
    },
    {
     "name": "stdout",
     "output_type": "stream",
     "text": [
      "Pre-training epoch [72/200]. Average ZINB loss:0.4811, kld loss:11.5314, total loss:0.4926\n"
     ]
    },
    {
     "name": "stderr",
     "output_type": "stream",
     "text": [
      "Pre-training::  36%|██████████████████████▉                                        | 73/200 [01:31<02:34,  1.22s/epoch]"
     ]
    },
    {
     "name": "stdout",
     "output_type": "stream",
     "text": [
      "Pre-training epoch [73/200]. Average ZINB loss:0.4811, kld loss:11.5093, total loss:0.4926\n"
     ]
    },
    {
     "name": "stderr",
     "output_type": "stream",
     "text": [
      "Pre-training::  37%|███████████████████████▎                                       | 74/200 [01:33<02:33,  1.22s/epoch]"
     ]
    },
    {
     "name": "stdout",
     "output_type": "stream",
     "text": [
      "Pre-training epoch [74/200]. Average ZINB loss:0.4812, kld loss:11.5053, total loss:0.4927\n"
     ]
    },
    {
     "name": "stderr",
     "output_type": "stream",
     "text": [
      "Pre-training::  38%|███████████████████████▋                                       | 75/200 [01:34<02:33,  1.23s/epoch]"
     ]
    },
    {
     "name": "stdout",
     "output_type": "stream",
     "text": [
      "Pre-training epoch [75/200]. Average ZINB loss:0.4808, kld loss:11.4527, total loss:0.4923\n"
     ]
    },
    {
     "name": "stderr",
     "output_type": "stream",
     "text": [
      "Pre-training::  38%|███████████████████████▉                                       | 76/200 [01:35<02:31,  1.22s/epoch]"
     ]
    },
    {
     "name": "stdout",
     "output_type": "stream",
     "text": [
      "Pre-training epoch [76/200]. Average ZINB loss:0.4807, kld loss:11.5237, total loss:0.4922\n"
     ]
    },
    {
     "name": "stderr",
     "output_type": "stream",
     "text": [
      "Pre-training::  38%|████████████████████████▎                                      | 77/200 [01:36<02:31,  1.23s/epoch]"
     ]
    },
    {
     "name": "stdout",
     "output_type": "stream",
     "text": [
      "Pre-training epoch [77/200]. Average ZINB loss:0.4805, kld loss:11.4380, total loss:0.4920\n"
     ]
    },
    {
     "name": "stderr",
     "output_type": "stream",
     "text": [
      "Pre-training::  39%|████████████████████████▌                                      | 78/200 [01:38<02:30,  1.24s/epoch]"
     ]
    },
    {
     "name": "stdout",
     "output_type": "stream",
     "text": [
      "Pre-training epoch [78/200]. Average ZINB loss:0.4802, kld loss:11.4501, total loss:0.4917\n"
     ]
    },
    {
     "name": "stderr",
     "output_type": "stream",
     "text": [
      "Pre-training::  40%|████████████████████████▉                                      | 79/200 [01:39<02:29,  1.24s/epoch]"
     ]
    },
    {
     "name": "stdout",
     "output_type": "stream",
     "text": [
      "Pre-training epoch [79/200]. Average ZINB loss:0.4801, kld loss:11.3052, total loss:0.4914\n"
     ]
    },
    {
     "name": "stderr",
     "output_type": "stream",
     "text": [
      "Pre-training::  40%|█████████████████████████▏                                     | 80/200 [01:40<02:30,  1.25s/epoch]"
     ]
    },
    {
     "name": "stdout",
     "output_type": "stream",
     "text": [
      "Pre-training epoch [80/200]. Average ZINB loss:0.4800, kld loss:11.3703, total loss:0.4914\n"
     ]
    },
    {
     "name": "stderr",
     "output_type": "stream",
     "text": [
      "Pre-training::  40%|█████████████████████████▌                                     | 81/200 [01:41<02:28,  1.25s/epoch]"
     ]
    },
    {
     "name": "stdout",
     "output_type": "stream",
     "text": [
      "Pre-training epoch [81/200]. Average ZINB loss:0.4799, kld loss:11.1983, total loss:0.4911\n"
     ]
    },
    {
     "name": "stderr",
     "output_type": "stream",
     "text": [
      "Pre-training::  41%|█████████████████████████▊                                     | 82/200 [01:43<02:26,  1.24s/epoch]"
     ]
    },
    {
     "name": "stdout",
     "output_type": "stream",
     "text": [
      "Pre-training epoch [82/200]. Average ZINB loss:0.4797, kld loss:11.2302, total loss:0.4909\n"
     ]
    },
    {
     "name": "stderr",
     "output_type": "stream",
     "text": [
      "Pre-training::  42%|██████████████████████████▏                                    | 83/200 [01:44<02:25,  1.24s/epoch]"
     ]
    },
    {
     "name": "stdout",
     "output_type": "stream",
     "text": [
      "Pre-training epoch [83/200]. Average ZINB loss:0.4798, kld loss:11.2032, total loss:0.4910\n"
     ]
    },
    {
     "name": "stderr",
     "output_type": "stream",
     "text": [
      "Pre-training::  42%|██████████████████████████▍                                    | 84/200 [01:45<02:23,  1.24s/epoch]"
     ]
    },
    {
     "name": "stdout",
     "output_type": "stream",
     "text": [
      "Pre-training epoch [84/200]. Average ZINB loss:0.4797, kld loss:11.2959, total loss:0.4910\n"
     ]
    },
    {
     "name": "stderr",
     "output_type": "stream",
     "text": [
      "Pre-training::  42%|██████████████████████████▊                                    | 85/200 [01:46<02:21,  1.23s/epoch]"
     ]
    },
    {
     "name": "stdout",
     "output_type": "stream",
     "text": [
      "Pre-training epoch [85/200]. Average ZINB loss:0.4797, kld loss:11.1294, total loss:0.4908\n"
     ]
    },
    {
     "name": "stderr",
     "output_type": "stream",
     "text": [
      "Pre-training::  43%|███████████████████████████                                    | 86/200 [01:48<02:21,  1.24s/epoch]"
     ]
    },
    {
     "name": "stdout",
     "output_type": "stream",
     "text": [
      "Pre-training epoch [86/200]. Average ZINB loss:0.4796, kld loss:11.1070, total loss:0.4907\n"
     ]
    },
    {
     "name": "stderr",
     "output_type": "stream",
     "text": [
      "Pre-training::  44%|███████████████████████████▍                                   | 87/200 [01:49<02:19,  1.24s/epoch]"
     ]
    },
    {
     "name": "stdout",
     "output_type": "stream",
     "text": [
      "Pre-training epoch [87/200]. Average ZINB loss:0.4793, kld loss:11.1749, total loss:0.4905\n"
     ]
    },
    {
     "name": "stderr",
     "output_type": "stream",
     "text": [
      "Pre-training::  44%|███████████████████████████▋                                   | 88/200 [01:50<02:20,  1.25s/epoch]"
     ]
    },
    {
     "name": "stdout",
     "output_type": "stream",
     "text": [
      "Pre-training epoch [88/200]. Average ZINB loss:0.4790, kld loss:11.1623, total loss:0.4902\n"
     ]
    },
    {
     "name": "stderr",
     "output_type": "stream",
     "text": [
      "Pre-training::  44%|████████████████████████████                                   | 89/200 [01:51<02:18,  1.25s/epoch]"
     ]
    },
    {
     "name": "stdout",
     "output_type": "stream",
     "text": [
      "Pre-training epoch [89/200]. Average ZINB loss:0.4792, kld loss:11.1010, total loss:0.4903\n"
     ]
    },
    {
     "name": "stderr",
     "output_type": "stream",
     "text": [
      "Pre-training::  45%|████████████████████████████▎                                  | 90/200 [01:53<02:16,  1.24s/epoch]"
     ]
    },
    {
     "name": "stdout",
     "output_type": "stream",
     "text": [
      "Pre-training epoch [90/200]. Average ZINB loss:0.4790, kld loss:11.0416, total loss:0.4901\n"
     ]
    },
    {
     "name": "stderr",
     "output_type": "stream",
     "text": [
      "Pre-training::  46%|████████████████████████████▋                                  | 91/200 [01:54<02:13,  1.22s/epoch]"
     ]
    },
    {
     "name": "stdout",
     "output_type": "stream",
     "text": [
      "Pre-training epoch [91/200]. Average ZINB loss:0.4789, kld loss:11.0224, total loss:0.4900\n"
     ]
    },
    {
     "name": "stderr",
     "output_type": "stream",
     "text": [
      "Pre-training::  46%|████████████████████████████▉                                  | 92/200 [01:55<02:12,  1.23s/epoch]"
     ]
    },
    {
     "name": "stdout",
     "output_type": "stream",
     "text": [
      "Pre-training epoch [92/200]. Average ZINB loss:0.4790, kld loss:11.1169, total loss:0.4901\n"
     ]
    },
    {
     "name": "stderr",
     "output_type": "stream",
     "text": [
      "Pre-training::  46%|█████████████████████████████▎                                 | 93/200 [01:56<02:11,  1.23s/epoch]"
     ]
    },
    {
     "name": "stdout",
     "output_type": "stream",
     "text": [
      "Pre-training epoch [93/200]. Average ZINB loss:0.4784, kld loss:11.0376, total loss:0.4894\n"
     ]
    },
    {
     "name": "stderr",
     "output_type": "stream",
     "text": [
      "Pre-training::  47%|█████████████████████████████▌                                 | 94/200 [01:57<02:10,  1.23s/epoch]"
     ]
    },
    {
     "name": "stdout",
     "output_type": "stream",
     "text": [
      "Pre-training epoch [94/200]. Average ZINB loss:0.4786, kld loss:11.1126, total loss:0.4897\n"
     ]
    },
    {
     "name": "stderr",
     "output_type": "stream",
     "text": [
      "Pre-training::  48%|█████████████████████████████▉                                 | 95/200 [01:59<02:10,  1.24s/epoch]"
     ]
    },
    {
     "name": "stdout",
     "output_type": "stream",
     "text": [
      "Pre-training epoch [95/200]. Average ZINB loss:0.4786, kld loss:11.0425, total loss:0.4896\n"
     ]
    },
    {
     "name": "stderr",
     "output_type": "stream",
     "text": [
      "Pre-training::  48%|██████████████████████████████▏                                | 96/200 [02:00<02:08,  1.24s/epoch]"
     ]
    },
    {
     "name": "stdout",
     "output_type": "stream",
     "text": [
      "Pre-training epoch [96/200]. Average ZINB loss:0.4788, kld loss:10.9733, total loss:0.4898\n"
     ]
    },
    {
     "name": "stderr",
     "output_type": "stream",
     "text": [
      "Pre-training::  48%|██████████████████████████████▌                                | 97/200 [02:01<02:06,  1.23s/epoch]"
     ]
    },
    {
     "name": "stdout",
     "output_type": "stream",
     "text": [
      "Pre-training epoch [97/200]. Average ZINB loss:0.4780, kld loss:10.9540, total loss:0.4890\n"
     ]
    },
    {
     "name": "stderr",
     "output_type": "stream",
     "text": [
      "Pre-training::  49%|██████████████████████████████▊                                | 98/200 [02:02<02:04,  1.22s/epoch]"
     ]
    },
    {
     "name": "stdout",
     "output_type": "stream",
     "text": [
      "Pre-training epoch [98/200]. Average ZINB loss:0.4783, kld loss:10.9219, total loss:0.4892\n"
     ]
    },
    {
     "name": "stderr",
     "output_type": "stream",
     "text": [
      "Pre-training::  50%|███████████████████████████████▏                               | 99/200 [02:03<02:01,  1.21s/epoch]"
     ]
    },
    {
     "name": "stdout",
     "output_type": "stream",
     "text": [
      "Pre-training epoch [99/200]. Average ZINB loss:0.4781, kld loss:10.9272, total loss:0.4890\n"
     ]
    },
    {
     "name": "stderr",
     "output_type": "stream",
     "text": [
      "Pre-training::  50%|███████████████████████████████                               | 100/200 [02:05<02:01,  1.22s/epoch]"
     ]
    },
    {
     "name": "stdout",
     "output_type": "stream",
     "text": [
      "Pre-training epoch [100/200]. Average ZINB loss:0.4779, kld loss:10.9057, total loss:0.4888\n"
     ]
    },
    {
     "name": "stderr",
     "output_type": "stream",
     "text": [
      "Pre-training::  50%|███████████████████████████████▎                              | 101/200 [02:06<02:00,  1.22s/epoch]"
     ]
    },
    {
     "name": "stdout",
     "output_type": "stream",
     "text": [
      "Pre-training epoch [101/200]. Average ZINB loss:0.4779, kld loss:10.9791, total loss:0.4888\n"
     ]
    },
    {
     "name": "stderr",
     "output_type": "stream",
     "text": [
      "Pre-training::  51%|███████████████████████████████▌                              | 102/200 [02:07<01:59,  1.22s/epoch]"
     ]
    },
    {
     "name": "stdout",
     "output_type": "stream",
     "text": [
      "Pre-training epoch [102/200]. Average ZINB loss:0.4775, kld loss:10.8959, total loss:0.4883\n"
     ]
    },
    {
     "name": "stderr",
     "output_type": "stream",
     "text": [
      "Pre-training::  52%|███████████████████████████████▉                              | 103/200 [02:08<01:57,  1.21s/epoch]"
     ]
    },
    {
     "name": "stdout",
     "output_type": "stream",
     "text": [
      "Pre-training epoch [103/200]. Average ZINB loss:0.4777, kld loss:10.9357, total loss:0.4886\n"
     ]
    },
    {
     "name": "stderr",
     "output_type": "stream",
     "text": [
      "Pre-training::  52%|████████████████████████████████▏                             | 104/200 [02:10<01:57,  1.22s/epoch]"
     ]
    },
    {
     "name": "stdout",
     "output_type": "stream",
     "text": [
      "Pre-training epoch [104/200]. Average ZINB loss:0.4779, kld loss:10.9365, total loss:0.4888\n"
     ]
    },
    {
     "name": "stderr",
     "output_type": "stream",
     "text": [
      "Pre-training::  52%|████████████████████████████████▌                             | 105/200 [02:11<01:55,  1.22s/epoch]"
     ]
    },
    {
     "name": "stdout",
     "output_type": "stream",
     "text": [
      "Pre-training epoch [105/200]. Average ZINB loss:0.4777, kld loss:10.8444, total loss:0.4885\n"
     ]
    },
    {
     "name": "stderr",
     "output_type": "stream",
     "text": [
      "Pre-training::  53%|████████████████████████████████▊                             | 106/200 [02:12<01:55,  1.23s/epoch]"
     ]
    },
    {
     "name": "stdout",
     "output_type": "stream",
     "text": [
      "Pre-training epoch [106/200]. Average ZINB loss:0.4775, kld loss:10.9417, total loss:0.4885\n"
     ]
    },
    {
     "name": "stderr",
     "output_type": "stream",
     "text": [
      "Pre-training::  54%|█████████████████████████████████▏                            | 107/200 [02:13<01:55,  1.24s/epoch]"
     ]
    },
    {
     "name": "stdout",
     "output_type": "stream",
     "text": [
      "Pre-training epoch [107/200]. Average ZINB loss:0.4774, kld loss:10.8259, total loss:0.4882\n"
     ]
    },
    {
     "name": "stderr",
     "output_type": "stream",
     "text": [
      "Pre-training::  54%|█████████████████████████████████▍                            | 108/200 [02:15<01:54,  1.25s/epoch]"
     ]
    },
    {
     "name": "stdout",
     "output_type": "stream",
     "text": [
      "Pre-training epoch [108/200]. Average ZINB loss:0.4771, kld loss:10.8648, total loss:0.4879\n"
     ]
    },
    {
     "name": "stderr",
     "output_type": "stream",
     "text": [
      "Pre-training::  55%|█████████████████████████████████▊                            | 109/200 [02:16<01:53,  1.25s/epoch]"
     ]
    },
    {
     "name": "stdout",
     "output_type": "stream",
     "text": [
      "Pre-training epoch [109/200]. Average ZINB loss:0.4771, kld loss:10.8743, total loss:0.4879\n"
     ]
    },
    {
     "name": "stderr",
     "output_type": "stream",
     "text": [
      "Pre-training::  55%|██████████████████████████████████                            | 110/200 [02:17<01:53,  1.26s/epoch]"
     ]
    },
    {
     "name": "stdout",
     "output_type": "stream",
     "text": [
      "Pre-training epoch [110/200]. Average ZINB loss:0.4770, kld loss:10.7615, total loss:0.4877\n"
     ]
    },
    {
     "name": "stderr",
     "output_type": "stream",
     "text": [
      "Pre-training::  56%|██████████████████████████████████▍                           | 111/200 [02:18<01:52,  1.26s/epoch]"
     ]
    },
    {
     "name": "stdout",
     "output_type": "stream",
     "text": [
      "Pre-training epoch [111/200]. Average ZINB loss:0.4768, kld loss:10.8642, total loss:0.4876\n"
     ]
    },
    {
     "name": "stderr",
     "output_type": "stream",
     "text": [
      "Pre-training::  56%|██████████████████████████████████▋                           | 112/200 [02:20<01:51,  1.27s/epoch]"
     ]
    },
    {
     "name": "stdout",
     "output_type": "stream",
     "text": [
      "Pre-training epoch [112/200]. Average ZINB loss:0.4768, kld loss:10.8044, total loss:0.4876\n"
     ]
    },
    {
     "name": "stderr",
     "output_type": "stream",
     "text": [
      "Pre-training::  56%|███████████████████████████████████                           | 113/200 [02:21<01:49,  1.26s/epoch]"
     ]
    },
    {
     "name": "stdout",
     "output_type": "stream",
     "text": [
      "Pre-training epoch [113/200]. Average ZINB loss:0.4770, kld loss:10.8871, total loss:0.4879\n"
     ]
    },
    {
     "name": "stderr",
     "output_type": "stream",
     "text": [
      "Pre-training::  57%|███████████████████████████████████▎                          | 114/200 [02:22<01:47,  1.26s/epoch]"
     ]
    },
    {
     "name": "stdout",
     "output_type": "stream",
     "text": [
      "Pre-training epoch [114/200]. Average ZINB loss:0.4766, kld loss:10.8125, total loss:0.4874\n"
     ]
    },
    {
     "name": "stderr",
     "output_type": "stream",
     "text": [
      "Pre-training::  57%|███████████████████████████████████▋                          | 115/200 [02:23<01:45,  1.25s/epoch]"
     ]
    },
    {
     "name": "stdout",
     "output_type": "stream",
     "text": [
      "Pre-training epoch [115/200]. Average ZINB loss:0.4766, kld loss:10.7167, total loss:0.4873\n"
     ]
    },
    {
     "name": "stderr",
     "output_type": "stream",
     "text": [
      "Pre-training::  58%|███████████████████████████████████▉                          | 116/200 [02:25<01:44,  1.24s/epoch]"
     ]
    },
    {
     "name": "stdout",
     "output_type": "stream",
     "text": [
      "Pre-training epoch [116/200]. Average ZINB loss:0.4767, kld loss:10.8015, total loss:0.4875\n"
     ]
    },
    {
     "name": "stderr",
     "output_type": "stream",
     "text": [
      "Pre-training::  58%|████████████████████████████████████▎                         | 117/200 [02:26<01:43,  1.24s/epoch]"
     ]
    },
    {
     "name": "stdout",
     "output_type": "stream",
     "text": [
      "Pre-training epoch [117/200]. Average ZINB loss:0.4765, kld loss:10.6869, total loss:0.4872\n"
     ]
    },
    {
     "name": "stderr",
     "output_type": "stream",
     "text": [
      "Pre-training::  59%|████████████████████████████████████▌                         | 118/200 [02:27<01:41,  1.23s/epoch]"
     ]
    },
    {
     "name": "stdout",
     "output_type": "stream",
     "text": [
      "Pre-training epoch [118/200]. Average ZINB loss:0.4764, kld loss:10.7750, total loss:0.4872\n"
     ]
    },
    {
     "name": "stderr",
     "output_type": "stream",
     "text": [
      "Pre-training::  60%|████████████████████████████████████▉                         | 119/200 [02:28<01:39,  1.23s/epoch]"
     ]
    },
    {
     "name": "stdout",
     "output_type": "stream",
     "text": [
      "Pre-training epoch [119/200]. Average ZINB loss:0.4765, kld loss:10.8957, total loss:0.4874\n"
     ]
    },
    {
     "name": "stderr",
     "output_type": "stream",
     "text": [
      "Pre-training::  60%|█████████████████████████████████████▏                        | 120/200 [02:30<01:38,  1.23s/epoch]"
     ]
    },
    {
     "name": "stdout",
     "output_type": "stream",
     "text": [
      "Pre-training epoch [120/200]. Average ZINB loss:0.4761, kld loss:10.8625, total loss:0.4869\n"
     ]
    },
    {
     "name": "stderr",
     "output_type": "stream",
     "text": [
      "Pre-training::  60%|█████████████████████████████████████▌                        | 121/200 [02:31<01:38,  1.25s/epoch]"
     ]
    },
    {
     "name": "stdout",
     "output_type": "stream",
     "text": [
      "Pre-training epoch [121/200]. Average ZINB loss:0.4761, kld loss:10.7436, total loss:0.4869\n"
     ]
    },
    {
     "name": "stderr",
     "output_type": "stream",
     "text": [
      "Pre-training::  61%|█████████████████████████████████████▊                        | 122/200 [02:32<01:37,  1.26s/epoch]"
     ]
    },
    {
     "name": "stdout",
     "output_type": "stream",
     "text": [
      "Pre-training epoch [122/200]. Average ZINB loss:0.4758, kld loss:10.7470, total loss:0.4866\n"
     ]
    },
    {
     "name": "stderr",
     "output_type": "stream",
     "text": [
      "Pre-training::  62%|██████████████████████████████████████▏                       | 123/200 [02:33<01:36,  1.25s/epoch]"
     ]
    },
    {
     "name": "stdout",
     "output_type": "stream",
     "text": [
      "Pre-training epoch [123/200]. Average ZINB loss:0.4758, kld loss:10.7302, total loss:0.4865\n"
     ]
    },
    {
     "name": "stderr",
     "output_type": "stream",
     "text": [
      "Pre-training::  62%|██████████████████████████████████████▍                       | 124/200 [02:35<01:34,  1.25s/epoch]"
     ]
    },
    {
     "name": "stdout",
     "output_type": "stream",
     "text": [
      "Pre-training epoch [124/200]. Average ZINB loss:0.4757, kld loss:10.7887, total loss:0.4865\n"
     ]
    },
    {
     "name": "stderr",
     "output_type": "stream",
     "text": [
      "Pre-training::  62%|██████████████████████████████████████▊                       | 125/200 [02:36<01:33,  1.24s/epoch]"
     ]
    },
    {
     "name": "stdout",
     "output_type": "stream",
     "text": [
      "Pre-training epoch [125/200]. Average ZINB loss:0.4754, kld loss:10.6876, total loss:0.4861\n"
     ]
    },
    {
     "name": "stderr",
     "output_type": "stream",
     "text": [
      "Pre-training::  63%|███████████████████████████████████████                       | 126/200 [02:37<01:32,  1.25s/epoch]"
     ]
    },
    {
     "name": "stdout",
     "output_type": "stream",
     "text": [
      "Pre-training epoch [126/200]. Average ZINB loss:0.4758, kld loss:10.7180, total loss:0.4865\n"
     ]
    },
    {
     "name": "stderr",
     "output_type": "stream",
     "text": [
      "Pre-training::  64%|███████████████████████████████████████▎                      | 127/200 [02:38<01:30,  1.24s/epoch]"
     ]
    },
    {
     "name": "stdout",
     "output_type": "stream",
     "text": [
      "Pre-training epoch [127/200]. Average ZINB loss:0.4757, kld loss:10.7645, total loss:0.4865\n"
     ]
    },
    {
     "name": "stderr",
     "output_type": "stream",
     "text": [
      "Pre-training::  64%|███████████████████████████████████████▋                      | 128/200 [02:40<01:29,  1.24s/epoch]"
     ]
    },
    {
     "name": "stdout",
     "output_type": "stream",
     "text": [
      "Pre-training epoch [128/200]. Average ZINB loss:0.4754, kld loss:10.6694, total loss:0.4861\n"
     ]
    },
    {
     "name": "stderr",
     "output_type": "stream",
     "text": [
      "Pre-training::  64%|███████████████████████████████████████▉                      | 129/200 [02:41<01:26,  1.22s/epoch]"
     ]
    },
    {
     "name": "stdout",
     "output_type": "stream",
     "text": [
      "Pre-training epoch [129/200]. Average ZINB loss:0.4755, kld loss:10.7109, total loss:0.4862\n"
     ]
    },
    {
     "name": "stderr",
     "output_type": "stream",
     "text": [
      "Pre-training::  65%|████████████████████████████████████████▎                     | 130/200 [02:42<01:24,  1.21s/epoch]"
     ]
    },
    {
     "name": "stdout",
     "output_type": "stream",
     "text": [
      "Pre-training epoch [130/200]. Average ZINB loss:0.4753, kld loss:10.7515, total loss:0.4861\n"
     ]
    },
    {
     "name": "stderr",
     "output_type": "stream",
     "text": [
      "Pre-training::  66%|████████████████████████████████████████▌                     | 131/200 [02:43<01:24,  1.22s/epoch]"
     ]
    },
    {
     "name": "stdout",
     "output_type": "stream",
     "text": [
      "Pre-training epoch [131/200]. Average ZINB loss:0.4754, kld loss:10.7088, total loss:0.4861\n"
     ]
    },
    {
     "name": "stderr",
     "output_type": "stream",
     "text": [
      "Pre-training::  66%|████████████████████████████████████████▉                     | 132/200 [02:44<01:23,  1.23s/epoch]"
     ]
    },
    {
     "name": "stdout",
     "output_type": "stream",
     "text": [
      "Pre-training epoch [132/200]. Average ZINB loss:0.4753, kld loss:10.6646, total loss:0.4860\n"
     ]
    },
    {
     "name": "stderr",
     "output_type": "stream",
     "text": [
      "Pre-training::  66%|█████████████████████████████████████████▏                    | 133/200 [02:46<01:21,  1.21s/epoch]"
     ]
    },
    {
     "name": "stdout",
     "output_type": "stream",
     "text": [
      "Pre-training epoch [133/200]. Average ZINB loss:0.4752, kld loss:10.8115, total loss:0.4860\n"
     ]
    },
    {
     "name": "stderr",
     "output_type": "stream",
     "text": [
      "Pre-training::  67%|█████████████████████████████████████████▌                    | 134/200 [02:47<01:20,  1.22s/epoch]"
     ]
    },
    {
     "name": "stdout",
     "output_type": "stream",
     "text": [
      "Pre-training epoch [134/200]. Average ZINB loss:0.4751, kld loss:10.7018, total loss:0.4858\n"
     ]
    },
    {
     "name": "stderr",
     "output_type": "stream",
     "text": [
      "Pre-training::  68%|█████████████████████████████████████████▊                    | 135/200 [02:48<01:19,  1.22s/epoch]"
     ]
    },
    {
     "name": "stdout",
     "output_type": "stream",
     "text": [
      "Pre-training epoch [135/200]. Average ZINB loss:0.4753, kld loss:10.7372, total loss:0.4861\n"
     ]
    },
    {
     "name": "stderr",
     "output_type": "stream",
     "text": [
      "Pre-training::  68%|██████████████████████████████████████████▏                   | 136/200 [02:49<01:18,  1.22s/epoch]"
     ]
    },
    {
     "name": "stdout",
     "output_type": "stream",
     "text": [
      "Pre-training epoch [136/200]. Average ZINB loss:0.4748, kld loss:10.7299, total loss:0.4856\n"
     ]
    },
    {
     "name": "stderr",
     "output_type": "stream",
     "text": [
      "Pre-training::  68%|██████████████████████████████████████████▍                   | 137/200 [02:50<01:17,  1.22s/epoch]"
     ]
    },
    {
     "name": "stdout",
     "output_type": "stream",
     "text": [
      "Pre-training epoch [137/200]. Average ZINB loss:0.4747, kld loss:10.6499, total loss:0.4853\n"
     ]
    },
    {
     "name": "stderr",
     "output_type": "stream",
     "text": [
      "Pre-training::  69%|██████████████████████████████████████████▊                   | 138/200 [02:52<01:16,  1.24s/epoch]"
     ]
    },
    {
     "name": "stdout",
     "output_type": "stream",
     "text": [
      "Pre-training epoch [138/200]. Average ZINB loss:0.4750, kld loss:10.6430, total loss:0.4856\n"
     ]
    },
    {
     "name": "stderr",
     "output_type": "stream",
     "text": [
      "Pre-training::  70%|███████████████████████████████████████████                   | 139/200 [02:53<01:14,  1.22s/epoch]"
     ]
    },
    {
     "name": "stdout",
     "output_type": "stream",
     "text": [
      "Pre-training epoch [139/200]. Average ZINB loss:0.4745, kld loss:10.7630, total loss:0.4853\n"
     ]
    },
    {
     "name": "stderr",
     "output_type": "stream",
     "text": [
      "Pre-training::  70%|███████████████████████████████████████████▍                  | 140/200 [02:54<01:12,  1.20s/epoch]"
     ]
    },
    {
     "name": "stdout",
     "output_type": "stream",
     "text": [
      "Pre-training epoch [140/200]. Average ZINB loss:0.4746, kld loss:10.6305, total loss:0.4852\n"
     ]
    },
    {
     "name": "stderr",
     "output_type": "stream",
     "text": [
      "Pre-training::  70%|███████████████████████████████████████████▋                  | 141/200 [02:55<01:11,  1.21s/epoch]"
     ]
    },
    {
     "name": "stdout",
     "output_type": "stream",
     "text": [
      "Pre-training epoch [141/200]. Average ZINB loss:0.4748, kld loss:10.6501, total loss:0.4854\n"
     ]
    },
    {
     "name": "stderr",
     "output_type": "stream",
     "text": [
      "Pre-training::  71%|████████████████████████████████████████████                  | 142/200 [02:57<01:11,  1.23s/epoch]"
     ]
    },
    {
     "name": "stdout",
     "output_type": "stream",
     "text": [
      "Pre-training epoch [142/200]. Average ZINB loss:0.4746, kld loss:10.5609, total loss:0.4852\n"
     ]
    },
    {
     "name": "stderr",
     "output_type": "stream",
     "text": [
      "Pre-training::  72%|████████████████████████████████████████████▎                 | 143/200 [02:58<01:10,  1.23s/epoch]"
     ]
    },
    {
     "name": "stdout",
     "output_type": "stream",
     "text": [
      "Pre-training epoch [143/200]. Average ZINB loss:0.4748, kld loss:10.5839, total loss:0.4853\n"
     ]
    },
    {
     "name": "stderr",
     "output_type": "stream",
     "text": [
      "Pre-training::  72%|████████████████████████████████████████████▋                 | 144/200 [02:59<01:09,  1.24s/epoch]"
     ]
    },
    {
     "name": "stdout",
     "output_type": "stream",
     "text": [
      "Pre-training epoch [144/200]. Average ZINB loss:0.4744, kld loss:10.7812, total loss:0.4852\n"
     ]
    },
    {
     "name": "stderr",
     "output_type": "stream",
     "text": [
      "Pre-training::  72%|████████████████████████████████████████████▉                 | 145/200 [03:00<01:08,  1.24s/epoch]"
     ]
    },
    {
     "name": "stdout",
     "output_type": "stream",
     "text": [
      "Pre-training epoch [145/200]. Average ZINB loss:0.4747, kld loss:10.5446, total loss:0.4852\n"
     ]
    },
    {
     "name": "stderr",
     "output_type": "stream",
     "text": [
      "Pre-training::  73%|█████████████████████████████████████████████▎                | 146/200 [03:02<01:07,  1.24s/epoch]"
     ]
    },
    {
     "name": "stdout",
     "output_type": "stream",
     "text": [
      "Pre-training epoch [146/200]. Average ZINB loss:0.4743, kld loss:10.7292, total loss:0.4850\n"
     ]
    },
    {
     "name": "stderr",
     "output_type": "stream",
     "text": [
      "Pre-training::  74%|█████████████████████████████████████████████▌                | 147/200 [03:03<01:05,  1.24s/epoch]"
     ]
    },
    {
     "name": "stdout",
     "output_type": "stream",
     "text": [
      "Pre-training epoch [147/200]. Average ZINB loss:0.4742, kld loss:10.7234, total loss:0.4849\n"
     ]
    },
    {
     "name": "stderr",
     "output_type": "stream",
     "text": [
      "Pre-training::  74%|█████████████████████████████████████████████▉                | 148/200 [03:04<01:04,  1.24s/epoch]"
     ]
    },
    {
     "name": "stdout",
     "output_type": "stream",
     "text": [
      "Pre-training epoch [148/200]. Average ZINB loss:0.4739, kld loss:10.5846, total loss:0.4845\n"
     ]
    },
    {
     "name": "stderr",
     "output_type": "stream",
     "text": [
      "Pre-training::  74%|██████████████████████████████████████████████▏               | 149/200 [03:05<01:03,  1.25s/epoch]"
     ]
    },
    {
     "name": "stdout",
     "output_type": "stream",
     "text": [
      "Pre-training epoch [149/200]. Average ZINB loss:0.4739, kld loss:10.6132, total loss:0.4845\n"
     ]
    },
    {
     "name": "stderr",
     "output_type": "stream",
     "text": [
      "Pre-training::  75%|██████████████████████████████████████████████▌               | 150/200 [03:07<01:02,  1.24s/epoch]"
     ]
    },
    {
     "name": "stdout",
     "output_type": "stream",
     "text": [
      "Pre-training epoch [150/200]. Average ZINB loss:0.4742, kld loss:10.6200, total loss:0.4848\n"
     ]
    },
    {
     "name": "stderr",
     "output_type": "stream",
     "text": [
      "Pre-training::  76%|██████████████████████████████████████████████▊               | 151/200 [03:08<01:00,  1.24s/epoch]"
     ]
    },
    {
     "name": "stdout",
     "output_type": "stream",
     "text": [
      "Pre-training epoch [151/200]. Average ZINB loss:0.4739, kld loss:10.5998, total loss:0.4845\n"
     ]
    },
    {
     "name": "stderr",
     "output_type": "stream",
     "text": [
      "Pre-training::  76%|███████████████████████████████████████████████               | 152/200 [03:09<00:59,  1.25s/epoch]"
     ]
    },
    {
     "name": "stdout",
     "output_type": "stream",
     "text": [
      "Pre-training epoch [152/200]. Average ZINB loss:0.4736, kld loss:10.6649, total loss:0.4842\n"
     ]
    },
    {
     "name": "stderr",
     "output_type": "stream",
     "text": [
      "Pre-training::  76%|███████████████████████████████████████████████▍              | 153/200 [03:10<00:58,  1.25s/epoch]"
     ]
    },
    {
     "name": "stdout",
     "output_type": "stream",
     "text": [
      "Pre-training epoch [153/200]. Average ZINB loss:0.4737, kld loss:10.6377, total loss:0.4843\n"
     ]
    },
    {
     "name": "stderr",
     "output_type": "stream",
     "text": [
      "Pre-training::  77%|███████████████████████████████████████████████▋              | 154/200 [03:11<00:57,  1.24s/epoch]"
     ]
    },
    {
     "name": "stdout",
     "output_type": "stream",
     "text": [
      "Pre-training epoch [154/200]. Average ZINB loss:0.4737, kld loss:10.7076, total loss:0.4844\n"
     ]
    },
    {
     "name": "stderr",
     "output_type": "stream",
     "text": [
      "Pre-training::  78%|████████████████████████████████████████████████              | 155/200 [03:13<00:56,  1.25s/epoch]"
     ]
    },
    {
     "name": "stdout",
     "output_type": "stream",
     "text": [
      "Pre-training epoch [155/200]. Average ZINB loss:0.4737, kld loss:10.6452, total loss:0.4843\n"
     ]
    },
    {
     "name": "stderr",
     "output_type": "stream",
     "text": [
      "Pre-training::  78%|████████████████████████████████████████████████▎             | 156/200 [03:14<00:54,  1.25s/epoch]"
     ]
    },
    {
     "name": "stdout",
     "output_type": "stream",
     "text": [
      "Pre-training epoch [156/200]. Average ZINB loss:0.4736, kld loss:10.6256, total loss:0.4842\n"
     ]
    },
    {
     "name": "stderr",
     "output_type": "stream",
     "text": [
      "Pre-training::  78%|████████████████████████████████████████████████▋             | 157/200 [03:15<00:53,  1.25s/epoch]"
     ]
    },
    {
     "name": "stdout",
     "output_type": "stream",
     "text": [
      "Pre-training epoch [157/200]. Average ZINB loss:0.4737, kld loss:10.6644, total loss:0.4843\n"
     ]
    },
    {
     "name": "stderr",
     "output_type": "stream",
     "text": [
      "Pre-training::  79%|████████████████████████████████████████████████▉             | 158/200 [03:17<00:53,  1.26s/epoch]"
     ]
    },
    {
     "name": "stdout",
     "output_type": "stream",
     "text": [
      "Pre-training epoch [158/200]. Average ZINB loss:0.4735, kld loss:10.6596, total loss:0.4841\n"
     ]
    },
    {
     "name": "stderr",
     "output_type": "stream",
     "text": [
      "Pre-training::  80%|█████████████████████████████████████████████████▎            | 159/200 [03:18<00:51,  1.26s/epoch]"
     ]
    },
    {
     "name": "stdout",
     "output_type": "stream",
     "text": [
      "Pre-training epoch [159/200]. Average ZINB loss:0.4737, kld loss:10.6412, total loss:0.4843\n"
     ]
    },
    {
     "name": "stderr",
     "output_type": "stream",
     "text": [
      "Pre-training::  80%|█████████████████████████████████████████████████▌            | 160/200 [03:19<00:49,  1.25s/epoch]"
     ]
    },
    {
     "name": "stdout",
     "output_type": "stream",
     "text": [
      "Pre-training epoch [160/200]. Average ZINB loss:0.4733, kld loss:10.6803, total loss:0.4839\n"
     ]
    },
    {
     "name": "stderr",
     "output_type": "stream",
     "text": [
      "Pre-training::  80%|█████████████████████████████████████████████████▉            | 161/200 [03:20<00:48,  1.24s/epoch]"
     ]
    },
    {
     "name": "stdout",
     "output_type": "stream",
     "text": [
      "Pre-training epoch [161/200]. Average ZINB loss:0.4732, kld loss:10.6205, total loss:0.4838\n"
     ]
    },
    {
     "name": "stderr",
     "output_type": "stream",
     "text": [
      "Pre-training::  81%|██████████████████████████████████████████████████▏           | 162/200 [03:22<00:47,  1.24s/epoch]"
     ]
    },
    {
     "name": "stdout",
     "output_type": "stream",
     "text": [
      "Pre-training epoch [162/200]. Average ZINB loss:0.4733, kld loss:10.6048, total loss:0.4839\n"
     ]
    },
    {
     "name": "stderr",
     "output_type": "stream",
     "text": [
      "Pre-training::  82%|██████████████████████████████████████████████████▌           | 163/200 [03:23<00:45,  1.24s/epoch]"
     ]
    },
    {
     "name": "stdout",
     "output_type": "stream",
     "text": [
      "Pre-training epoch [163/200]. Average ZINB loss:0.4731, kld loss:10.6501, total loss:0.4838\n"
     ]
    },
    {
     "name": "stderr",
     "output_type": "stream",
     "text": [
      "Pre-training::  82%|██████████████████████████████████████████████████▊           | 164/200 [03:24<00:44,  1.23s/epoch]"
     ]
    },
    {
     "name": "stdout",
     "output_type": "stream",
     "text": [
      "Pre-training epoch [164/200]. Average ZINB loss:0.4731, kld loss:10.6083, total loss:0.4837\n"
     ]
    },
    {
     "name": "stderr",
     "output_type": "stream",
     "text": [
      "Pre-training::  82%|███████████████████████████████████████████████████▏          | 165/200 [03:25<00:42,  1.22s/epoch]"
     ]
    },
    {
     "name": "stdout",
     "output_type": "stream",
     "text": [
      "Pre-training epoch [165/200]. Average ZINB loss:0.4730, kld loss:10.6547, total loss:0.4836\n"
     ]
    },
    {
     "name": "stderr",
     "output_type": "stream",
     "text": [
      "Pre-training::  83%|███████████████████████████████████████████████████▍          | 166/200 [03:26<00:41,  1.23s/epoch]"
     ]
    },
    {
     "name": "stdout",
     "output_type": "stream",
     "text": [
      "Pre-training epoch [166/200]. Average ZINB loss:0.4732, kld loss:10.5557, total loss:0.4838\n"
     ]
    },
    {
     "name": "stderr",
     "output_type": "stream",
     "text": [
      "Pre-training::  84%|███████████████████████████████████████████████████▊          | 167/200 [03:28<00:40,  1.24s/epoch]"
     ]
    },
    {
     "name": "stdout",
     "output_type": "stream",
     "text": [
      "Pre-training epoch [167/200]. Average ZINB loss:0.4729, kld loss:10.6438, total loss:0.4836\n"
     ]
    },
    {
     "name": "stderr",
     "output_type": "stream",
     "text": [
      "Pre-training::  84%|████████████████████████████████████████████████████          | 168/200 [03:29<00:39,  1.25s/epoch]"
     ]
    },
    {
     "name": "stdout",
     "output_type": "stream",
     "text": [
      "Pre-training epoch [168/200]. Average ZINB loss:0.4729, kld loss:10.5772, total loss:0.4834\n"
     ]
    },
    {
     "name": "stderr",
     "output_type": "stream",
     "text": [
      "Pre-training::  84%|████████████████████████████████████████████████████▍         | 169/200 [03:30<00:38,  1.23s/epoch]"
     ]
    },
    {
     "name": "stdout",
     "output_type": "stream",
     "text": [
      "Pre-training epoch [169/200]. Average ZINB loss:0.4732, kld loss:10.7426, total loss:0.4839\n"
     ]
    },
    {
     "name": "stderr",
     "output_type": "stream",
     "text": [
      "Pre-training::  85%|████████████████████████████████████████████████████▋         | 170/200 [03:31<00:36,  1.23s/epoch]"
     ]
    },
    {
     "name": "stdout",
     "output_type": "stream",
     "text": [
      "Pre-training epoch [170/200]. Average ZINB loss:0.4727, kld loss:10.6557, total loss:0.4834\n"
     ]
    },
    {
     "name": "stderr",
     "output_type": "stream",
     "text": [
      "Pre-training::  86%|█████████████████████████████████████████████████████         | 171/200 [03:33<00:35,  1.23s/epoch]"
     ]
    },
    {
     "name": "stdout",
     "output_type": "stream",
     "text": [
      "Pre-training epoch [171/200]. Average ZINB loss:0.4727, kld loss:10.6496, total loss:0.4833\n"
     ]
    },
    {
     "name": "stderr",
     "output_type": "stream",
     "text": [
      "Pre-training::  86%|█████████████████████████████████████████████████████▎        | 172/200 [03:34<00:34,  1.24s/epoch]"
     ]
    },
    {
     "name": "stdout",
     "output_type": "stream",
     "text": [
      "Pre-training epoch [172/200]. Average ZINB loss:0.4727, kld loss:10.6326, total loss:0.4833\n"
     ]
    },
    {
     "name": "stderr",
     "output_type": "stream",
     "text": [
      "Pre-training::  86%|█████████████████████████████████████████████████████▋        | 173/200 [03:35<00:33,  1.24s/epoch]"
     ]
    },
    {
     "name": "stdout",
     "output_type": "stream",
     "text": [
      "Pre-training epoch [173/200]. Average ZINB loss:0.4725, kld loss:10.5952, total loss:0.4831\n"
     ]
    },
    {
     "name": "stderr",
     "output_type": "stream",
     "text": [
      "Pre-training::  87%|█████████████████████████████████████████████████████▉        | 174/200 [03:36<00:32,  1.25s/epoch]"
     ]
    },
    {
     "name": "stdout",
     "output_type": "stream",
     "text": [
      "Pre-training epoch [174/200]. Average ZINB loss:0.4725, kld loss:10.6174, total loss:0.4831\n"
     ]
    },
    {
     "name": "stderr",
     "output_type": "stream",
     "text": [
      "Pre-training::  88%|██████████████████████████████████████████████████████▎       | 175/200 [03:38<00:31,  1.26s/epoch]"
     ]
    },
    {
     "name": "stdout",
     "output_type": "stream",
     "text": [
      "Pre-training epoch [175/200]. Average ZINB loss:0.4726, kld loss:10.5151, total loss:0.4831\n"
     ]
    },
    {
     "name": "stderr",
     "output_type": "stream",
     "text": [
      "Pre-training::  88%|██████████████████████████████████████████████████████▌       | 176/200 [03:39<00:30,  1.25s/epoch]"
     ]
    },
    {
     "name": "stdout",
     "output_type": "stream",
     "text": [
      "Pre-training epoch [176/200]. Average ZINB loss:0.4724, kld loss:10.6973, total loss:0.4831\n"
     ]
    },
    {
     "name": "stderr",
     "output_type": "stream",
     "text": [
      "Pre-training::  88%|██████████████████████████████████████████████████████▊       | 177/200 [03:40<00:28,  1.25s/epoch]"
     ]
    },
    {
     "name": "stdout",
     "output_type": "stream",
     "text": [
      "Pre-training epoch [177/200]. Average ZINB loss:0.4726, kld loss:10.6285, total loss:0.4832\n"
     ]
    },
    {
     "name": "stderr",
     "output_type": "stream",
     "text": [
      "Pre-training::  89%|███████████████████████████████████████████████████████▏      | 178/200 [03:41<00:27,  1.25s/epoch]"
     ]
    },
    {
     "name": "stdout",
     "output_type": "stream",
     "text": [
      "Pre-training epoch [178/200]. Average ZINB loss:0.4722, kld loss:10.6361, total loss:0.4828\n"
     ]
    },
    {
     "name": "stderr",
     "output_type": "stream",
     "text": [
      "Pre-training::  90%|███████████████████████████████████████████████████████▍      | 179/200 [03:43<00:26,  1.24s/epoch]"
     ]
    },
    {
     "name": "stdout",
     "output_type": "stream",
     "text": [
      "Pre-training epoch [179/200]. Average ZINB loss:0.4720, kld loss:10.6070, total loss:0.4826\n"
     ]
    },
    {
     "name": "stderr",
     "output_type": "stream",
     "text": [
      "Pre-training::  90%|███████████████████████████████████████████████████████▊      | 180/200 [03:44<00:24,  1.24s/epoch]"
     ]
    },
    {
     "name": "stdout",
     "output_type": "stream",
     "text": [
      "Pre-training epoch [180/200]. Average ZINB loss:0.4725, kld loss:10.6065, total loss:0.4831\n"
     ]
    },
    {
     "name": "stderr",
     "output_type": "stream",
     "text": [
      "Pre-training::  90%|████████████████████████████████████████████████████████      | 181/200 [03:45<00:23,  1.26s/epoch]"
     ]
    },
    {
     "name": "stdout",
     "output_type": "stream",
     "text": [
      "Pre-training epoch [181/200]. Average ZINB loss:0.4721, kld loss:10.7123, total loss:0.4828\n"
     ]
    },
    {
     "name": "stderr",
     "output_type": "stream",
     "text": [
      "Pre-training::  91%|████████████████████████████████████████████████████████▍     | 182/200 [03:46<00:22,  1.26s/epoch]"
     ]
    },
    {
     "name": "stdout",
     "output_type": "stream",
     "text": [
      "Pre-training epoch [182/200]. Average ZINB loss:0.4723, kld loss:10.6264, total loss:0.4829\n"
     ]
    },
    {
     "name": "stderr",
     "output_type": "stream",
     "text": [
      "Pre-training::  92%|████████████████████████████████████████████████████████▋     | 183/200 [03:48<00:21,  1.26s/epoch]"
     ]
    },
    {
     "name": "stdout",
     "output_type": "stream",
     "text": [
      "Pre-training epoch [183/200]. Average ZINB loss:0.4722, kld loss:10.5418, total loss:0.4828\n"
     ]
    },
    {
     "name": "stderr",
     "output_type": "stream",
     "text": [
      "Pre-training::  92%|█████████████████████████████████████████████████████████     | 184/200 [03:49<00:19,  1.23s/epoch]"
     ]
    },
    {
     "name": "stdout",
     "output_type": "stream",
     "text": [
      "Pre-training epoch [184/200]. Average ZINB loss:0.4722, kld loss:10.6044, total loss:0.4828\n"
     ]
    },
    {
     "name": "stderr",
     "output_type": "stream",
     "text": [
      "Pre-training::  92%|█████████████████████████████████████████████████████████▎    | 185/200 [03:50<00:18,  1.23s/epoch]"
     ]
    },
    {
     "name": "stdout",
     "output_type": "stream",
     "text": [
      "Pre-training epoch [185/200]. Average ZINB loss:0.4722, kld loss:10.5984, total loss:0.4828\n"
     ]
    },
    {
     "name": "stderr",
     "output_type": "stream",
     "text": [
      "Pre-training::  93%|█████████████████████████████████████████████████████████▋    | 186/200 [03:51<00:17,  1.24s/epoch]"
     ]
    },
    {
     "name": "stdout",
     "output_type": "stream",
     "text": [
      "Pre-training epoch [186/200]. Average ZINB loss:0.4720, kld loss:10.5549, total loss:0.4826\n"
     ]
    },
    {
     "name": "stderr",
     "output_type": "stream",
     "text": [
      "Pre-training::  94%|█████████████████████████████████████████████████████████▉    | 187/200 [03:53<00:16,  1.24s/epoch]"
     ]
    },
    {
     "name": "stdout",
     "output_type": "stream",
     "text": [
      "Pre-training epoch [187/200]. Average ZINB loss:0.4720, kld loss:10.5545, total loss:0.4825\n"
     ]
    },
    {
     "name": "stderr",
     "output_type": "stream",
     "text": [
      "Pre-training::  94%|██████████████████████████████████████████████████████████▎   | 188/200 [03:54<00:14,  1.22s/epoch]"
     ]
    },
    {
     "name": "stdout",
     "output_type": "stream",
     "text": [
      "Pre-training epoch [188/200]. Average ZINB loss:0.4720, kld loss:10.6085, total loss:0.4826\n"
     ]
    },
    {
     "name": "stderr",
     "output_type": "stream",
     "text": [
      "Pre-training::  94%|██████████████████████████████████████████████████████████▌   | 189/200 [03:55<00:13,  1.23s/epoch]"
     ]
    },
    {
     "name": "stdout",
     "output_type": "stream",
     "text": [
      "Pre-training epoch [189/200]. Average ZINB loss:0.4719, kld loss:10.5240, total loss:0.4825\n"
     ]
    },
    {
     "name": "stderr",
     "output_type": "stream",
     "text": [
      "Pre-training::  95%|██████████████████████████████████████████████████████████▉   | 190/200 [03:56<00:12,  1.24s/epoch]"
     ]
    },
    {
     "name": "stdout",
     "output_type": "stream",
     "text": [
      "Pre-training epoch [190/200]. Average ZINB loss:0.4719, kld loss:10.5397, total loss:0.4824\n"
     ]
    },
    {
     "name": "stderr",
     "output_type": "stream",
     "text": [
      "Pre-training::  96%|███████████████████████████████████████████████████████████▏  | 191/200 [03:57<00:11,  1.23s/epoch]"
     ]
    },
    {
     "name": "stdout",
     "output_type": "stream",
     "text": [
      "Pre-training epoch [191/200]. Average ZINB loss:0.4716, kld loss:10.6320, total loss:0.4823\n"
     ]
    },
    {
     "name": "stderr",
     "output_type": "stream",
     "text": [
      "Pre-training::  96%|███████████████████████████████████████████████████████████▌  | 192/200 [03:59<00:09,  1.23s/epoch]"
     ]
    },
    {
     "name": "stdout",
     "output_type": "stream",
     "text": [
      "Pre-training epoch [192/200]. Average ZINB loss:0.4720, kld loss:10.5499, total loss:0.4825\n"
     ]
    },
    {
     "name": "stderr",
     "output_type": "stream",
     "text": [
      "Pre-training::  96%|███████████████████████████████████████████████████████████▊  | 193/200 [04:00<00:08,  1.23s/epoch]"
     ]
    },
    {
     "name": "stdout",
     "output_type": "stream",
     "text": [
      "Pre-training epoch [193/200]. Average ZINB loss:0.4715, kld loss:10.5950, total loss:0.4821\n"
     ]
    },
    {
     "name": "stderr",
     "output_type": "stream",
     "text": [
      "Pre-training::  97%|████████████████████████████████████████████████████████████▏ | 194/200 [04:01<00:07,  1.25s/epoch]"
     ]
    },
    {
     "name": "stdout",
     "output_type": "stream",
     "text": [
      "Pre-training epoch [194/200]. Average ZINB loss:0.4714, kld loss:10.5972, total loss:0.4820\n"
     ]
    },
    {
     "name": "stderr",
     "output_type": "stream",
     "text": [
      "Pre-training::  98%|████████████████████████████████████████████████████████████▍ | 195/200 [04:02<00:06,  1.23s/epoch]"
     ]
    },
    {
     "name": "stdout",
     "output_type": "stream",
     "text": [
      "Pre-training epoch [195/200]. Average ZINB loss:0.4715, kld loss:10.5758, total loss:0.4820\n"
     ]
    },
    {
     "name": "stderr",
     "output_type": "stream",
     "text": [
      "Pre-training::  98%|████████████████████████████████████████████████████████████▊ | 196/200 [04:04<00:04,  1.24s/epoch]"
     ]
    },
    {
     "name": "stdout",
     "output_type": "stream",
     "text": [
      "Pre-training epoch [196/200]. Average ZINB loss:0.4715, kld loss:10.6144, total loss:0.4821\n"
     ]
    },
    {
     "name": "stderr",
     "output_type": "stream",
     "text": [
      "Pre-training::  98%|█████████████████████████████████████████████████████████████ | 197/200 [04:05<00:03,  1.24s/epoch]"
     ]
    },
    {
     "name": "stdout",
     "output_type": "stream",
     "text": [
      "Pre-training epoch [197/200]. Average ZINB loss:0.4715, kld loss:10.4882, total loss:0.4820\n"
     ]
    },
    {
     "name": "stderr",
     "output_type": "stream",
     "text": [
      "Pre-training::  99%|█████████████████████████████████████████████████████████████▍| 198/200 [04:06<00:02,  1.23s/epoch]"
     ]
    },
    {
     "name": "stdout",
     "output_type": "stream",
     "text": [
      "Pre-training epoch [198/200]. Average ZINB loss:0.4711, kld loss:10.5566, total loss:0.4817\n"
     ]
    },
    {
     "name": "stderr",
     "output_type": "stream",
     "text": [
      "Pre-training:: 100%|█████████████████████████████████████████████████████████████▋| 199/200 [04:07<00:01,  1.23s/epoch]"
     ]
    },
    {
     "name": "stdout",
     "output_type": "stream",
     "text": [
      "Pre-training epoch [199/200]. Average ZINB loss:0.4712, kld loss:10.5850, total loss:0.4818\n"
     ]
    },
    {
     "name": "stderr",
     "output_type": "stream",
     "text": [
      "Pre-training:: 100%|██████████████████████████████████████████████████████████████| 200/200 [04:09<00:00,  1.25s/epoch]"
     ]
    },
    {
     "name": "stdout",
     "output_type": "stream",
     "text": [
      "Pre-training epoch [200/200]. Average ZINB loss:0.4713, kld loss:10.5872, total loss:0.4819\n"
     ]
    },
    {
     "name": "stderr",
     "output_type": "stream",
     "text": [
      "\n"
     ]
    },
    {
     "name": "stdout",
     "output_type": "stream",
     "text": [
      "Start fine - tuning! Total fine - tuning epochs is 100.\n"
     ]
    },
    {
     "name": "stderr",
     "output_type": "stream",
     "text": [
      "Fine - tuning::   1%|▋                                                              | 1/100 [00:01<02:49,  1.71s/epoch]"
     ]
    },
    {
     "name": "stdout",
     "output_type": "stream",
     "text": [
      "Train epoch [1/500]. ZINB loss:0.4714, kld loss:10.5274, contrastive loss:5.5637, total loss:1.1330\n"
     ]
    },
    {
     "name": "stderr",
     "output_type": "stream",
     "text": [
      "Fine - tuning::   2%|█▎                                                             | 2/100 [00:02<02:17,  1.40s/epoch]"
     ]
    },
    {
     "name": "stdout",
     "output_type": "stream",
     "text": [
      "Train epoch [2/500]. ZINB loss:0.4711, kld loss:10.5205, contrastive loss:5.5892, total loss:1.1352\n"
     ]
    },
    {
     "name": "stderr",
     "output_type": "stream",
     "text": [
      "Fine - tuning::   3%|█▉                                                             | 3/100 [00:04<02:09,  1.33s/epoch]"
     ]
    },
    {
     "name": "stdout",
     "output_type": "stream",
     "text": [
      "Train epoch [3/500]. ZINB loss:0.4707, kld loss:10.5106, contrastive loss:5.5509, total loss:1.1309\n"
     ]
    },
    {
     "name": "stderr",
     "output_type": "stream",
     "text": [
      "Fine - tuning::   4%|██▌                                                            | 4/100 [00:05<02:08,  1.34s/epoch]"
     ]
    },
    {
     "name": "stdout",
     "output_type": "stream",
     "text": [
      "Train epoch [4/500]. ZINB loss:0.4710, kld loss:10.5176, contrastive loss:5.5681, total loss:1.1330\n"
     ]
    },
    {
     "name": "stderr",
     "output_type": "stream",
     "text": [
      "Fine - tuning::   5%|███▏                                                           | 5/100 [00:06<02:08,  1.36s/epoch]"
     ]
    },
    {
     "name": "stdout",
     "output_type": "stream",
     "text": [
      "Train epoch [5/500]. ZINB loss:0.4712, kld loss:10.5232, contrastive loss:5.5614, total loss:1.1326\n"
     ]
    },
    {
     "name": "stderr",
     "output_type": "stream",
     "text": [
      "Fine - tuning::   6%|███▊                                                           | 6/100 [00:08<02:09,  1.38s/epoch]"
     ]
    },
    {
     "name": "stdout",
     "output_type": "stream",
     "text": [
      "Train epoch [6/500]. ZINB loss:0.4708, kld loss:10.5116, contrastive loss:5.5576, total loss:1.1317\n"
     ]
    },
    {
     "name": "stderr",
     "output_type": "stream",
     "text": [
      "Fine - tuning::   7%|████▍                                                          | 7/100 [00:09<02:10,  1.41s/epoch]"
     ]
    },
    {
     "name": "stdout",
     "output_type": "stream",
     "text": [
      "Train epoch [7/500]. ZINB loss:0.4711, kld loss:10.5144, contrastive loss:5.5809, total loss:1.1343\n"
     ]
    },
    {
     "name": "stderr",
     "output_type": "stream",
     "text": [
      "Fine - tuning::   8%|█████                                                          | 8/100 [00:11<02:11,  1.43s/epoch]"
     ]
    },
    {
     "name": "stdout",
     "output_type": "stream",
     "text": [
      "Train epoch [8/500]. ZINB loss:0.4709, kld loss:10.5199, contrastive loss:5.5520, total loss:1.1313\n"
     ]
    },
    {
     "name": "stderr",
     "output_type": "stream",
     "text": [
      "Fine - tuning::   9%|█████▋                                                         | 9/100 [00:12<02:10,  1.44s/epoch]"
     ]
    },
    {
     "name": "stdout",
     "output_type": "stream",
     "text": [
      "Train epoch [9/500]. ZINB loss:0.4710, kld loss:10.5195, contrastive loss:5.5477, total loss:1.1309\n"
     ]
    },
    {
     "name": "stderr",
     "output_type": "stream",
     "text": [
      "Fine - tuning::  10%|██████▏                                                       | 10/100 [00:14<02:08,  1.43s/epoch]"
     ]
    },
    {
     "name": "stdout",
     "output_type": "stream",
     "text": [
      "Train epoch [10/500]. ZINB loss:0.4712, kld loss:10.5242, contrastive loss:5.5448, total loss:1.1309\n"
     ]
    },
    {
     "name": "stderr",
     "output_type": "stream",
     "text": [
      "Fine - tuning::  11%|██████▊                                                       | 11/100 [00:15<02:06,  1.42s/epoch]"
     ]
    },
    {
     "name": "stdout",
     "output_type": "stream",
     "text": [
      "Train epoch [11/500]. ZINB loss:0.4710, kld loss:10.5251, contrastive loss:5.5476, total loss:1.1311\n"
     ]
    },
    {
     "name": "stderr",
     "output_type": "stream",
     "text": [
      "Fine - tuning::  12%|███████▍                                                      | 12/100 [00:16<02:04,  1.42s/epoch]"
     ]
    },
    {
     "name": "stdout",
     "output_type": "stream",
     "text": [
      "Train epoch [12/500]. ZINB loss:0.4710, kld loss:10.5250, contrastive loss:5.5466, total loss:1.1309\n"
     ]
    },
    {
     "name": "stderr",
     "output_type": "stream",
     "text": [
      "Fine - tuning::  13%|████████                                                      | 13/100 [00:18<02:03,  1.42s/epoch]"
     ]
    },
    {
     "name": "stdout",
     "output_type": "stream",
     "text": [
      "Train epoch [13/500]. ZINB loss:0.4712, kld loss:10.5321, contrastive loss:5.5493, total loss:1.1314\n"
     ]
    },
    {
     "name": "stderr",
     "output_type": "stream",
     "text": [
      "Fine - tuning::  14%|████████▋                                                     | 14/100 [00:19<02:02,  1.42s/epoch]"
     ]
    },
    {
     "name": "stdout",
     "output_type": "stream",
     "text": [
      "Train epoch [14/500]. ZINB loss:0.4708, kld loss:10.5163, contrastive loss:5.5579, total loss:1.1318\n"
     ]
    },
    {
     "name": "stderr",
     "output_type": "stream",
     "text": [
      "Fine - tuning::  15%|█████████▎                                                    | 15/100 [00:21<01:59,  1.41s/epoch]"
     ]
    },
    {
     "name": "stdout",
     "output_type": "stream",
     "text": [
      "Train epoch [15/500]. ZINB loss:0.4708, kld loss:10.5187, contrastive loss:5.5473, total loss:1.1307\n"
     ]
    },
    {
     "name": "stderr",
     "output_type": "stream",
     "text": [
      "Fine - tuning::  16%|█████████▉                                                    | 16/100 [00:22<01:58,  1.41s/epoch]"
     ]
    },
    {
     "name": "stdout",
     "output_type": "stream",
     "text": [
      "Train epoch [16/500]. ZINB loss:0.4706, kld loss:10.5137, contrastive loss:5.5408, total loss:1.1299\n"
     ]
    },
    {
     "name": "stderr",
     "output_type": "stream",
     "text": [
      "Fine - tuning::  17%|██████████▌                                                   | 17/100 [00:23<01:57,  1.42s/epoch]"
     ]
    },
    {
     "name": "stdout",
     "output_type": "stream",
     "text": [
      "Train epoch [17/500]. ZINB loss:0.4710, kld loss:10.5235, contrastive loss:5.5327, total loss:1.1295\n"
     ]
    },
    {
     "name": "stderr",
     "output_type": "stream",
     "text": [
      "Fine - tuning::  18%|███████████▏                                                  | 18/100 [00:25<01:56,  1.42s/epoch]"
     ]
    },
    {
     "name": "stdout",
     "output_type": "stream",
     "text": [
      "Train epoch [18/500]. ZINB loss:0.4710, kld loss:10.5250, contrastive loss:5.5706, total loss:1.1333\n"
     ]
    },
    {
     "name": "stderr",
     "output_type": "stream",
     "text": [
      "Fine - tuning::  19%|███████████▊                                                  | 19/100 [00:26<01:56,  1.43s/epoch]"
     ]
    },
    {
     "name": "stdout",
     "output_type": "stream",
     "text": [
      "Train epoch [19/500]. ZINB loss:0.4706, kld loss:10.5204, contrastive loss:5.5658, total loss:1.1324\n"
     ]
    },
    {
     "name": "stderr",
     "output_type": "stream",
     "text": [
      "Fine - tuning::  20%|████████████▍                                                 | 20/100 [00:28<01:55,  1.44s/epoch]"
     ]
    },
    {
     "name": "stdout",
     "output_type": "stream",
     "text": [
      "Train epoch [20/500]. ZINB loss:0.4706, kld loss:10.5192, contrastive loss:5.5701, total loss:1.1328\n"
     ]
    },
    {
     "name": "stderr",
     "output_type": "stream",
     "text": [
      "Fine - tuning::  21%|█████████████                                                 | 21/100 [00:29<01:54,  1.45s/epoch]"
     ]
    },
    {
     "name": "stdout",
     "output_type": "stream",
     "text": [
      "Train epoch [21/500]. ZINB loss:0.4706, kld loss:10.5185, contrastive loss:5.5488, total loss:1.1307\n"
     ]
    },
    {
     "name": "stderr",
     "output_type": "stream",
     "text": [
      "Fine - tuning::  22%|█████████████▋                                                | 22/100 [00:31<01:52,  1.44s/epoch]"
     ]
    },
    {
     "name": "stdout",
     "output_type": "stream",
     "text": [
      "Train epoch [22/500]. ZINB loss:0.4708, kld loss:10.5278, contrastive loss:5.5495, total loss:1.1310\n"
     ]
    },
    {
     "name": "stderr",
     "output_type": "stream",
     "text": [
      "Fine - tuning::  23%|██████████████▎                                               | 23/100 [00:32<01:50,  1.43s/epoch]"
     ]
    },
    {
     "name": "stdout",
     "output_type": "stream",
     "text": [
      "Train epoch [23/500]. ZINB loss:0.4708, kld loss:10.5193, contrastive loss:5.5834, total loss:1.1344\n"
     ]
    },
    {
     "name": "stderr",
     "output_type": "stream",
     "text": [
      "Fine - tuning::  24%|██████████████▉                                               | 24/100 [00:34<01:48,  1.43s/epoch]"
     ]
    },
    {
     "name": "stdout",
     "output_type": "stream",
     "text": [
      "Train epoch [24/500]. ZINB loss:0.4708, kld loss:10.5169, contrastive loss:5.5642, total loss:1.1324\n"
     ]
    },
    {
     "name": "stderr",
     "output_type": "stream",
     "text": [
      "Fine - tuning::  25%|███████████████▌                                              | 25/100 [00:35<01:47,  1.43s/epoch]"
     ]
    },
    {
     "name": "stdout",
     "output_type": "stream",
     "text": [
      "Train epoch [25/500]. ZINB loss:0.4705, kld loss:10.5143, contrastive loss:5.5660, total loss:1.1322\n"
     ]
    },
    {
     "name": "stderr",
     "output_type": "stream",
     "text": [
      "Fine - tuning::  26%|████████████████                                              | 26/100 [00:36<01:45,  1.43s/epoch]"
     ]
    },
    {
     "name": "stdout",
     "output_type": "stream",
     "text": [
      "Train epoch [26/500]. ZINB loss:0.4710, kld loss:10.5221, contrastive loss:5.5686, total loss:1.1330\n"
     ]
    },
    {
     "name": "stderr",
     "output_type": "stream",
     "text": [
      "Fine - tuning::  27%|████████████████▋                                             | 27/100 [00:38<01:44,  1.43s/epoch]"
     ]
    },
    {
     "name": "stdout",
     "output_type": "stream",
     "text": [
      "Train epoch [27/500]. ZINB loss:0.4710, kld loss:10.5253, contrastive loss:5.5462, total loss:1.1309\n"
     ]
    },
    {
     "name": "stderr",
     "output_type": "stream",
     "text": [
      "Fine - tuning::  28%|█████████████████▎                                            | 28/100 [00:39<01:42,  1.42s/epoch]"
     ]
    },
    {
     "name": "stdout",
     "output_type": "stream",
     "text": [
      "Train epoch [28/500]. ZINB loss:0.4706, kld loss:10.5202, contrastive loss:5.5631, total loss:1.1321\n"
     ]
    },
    {
     "name": "stderr",
     "output_type": "stream",
     "text": [
      "Fine - tuning::  29%|█████████████████▉                                            | 29/100 [00:41<01:40,  1.41s/epoch]"
     ]
    },
    {
     "name": "stdout",
     "output_type": "stream",
     "text": [
      "Train epoch [29/500]. ZINB loss:0.4706, kld loss:10.5150, contrastive loss:5.5792, total loss:1.1337\n"
     ]
    },
    {
     "name": "stderr",
     "output_type": "stream",
     "text": [
      "Fine - tuning::  30%|██████████████████▌                                           | 30/100 [00:42<01:38,  1.41s/epoch]"
     ]
    },
    {
     "name": "stdout",
     "output_type": "stream",
     "text": [
      "Train epoch [30/500]. ZINB loss:0.4706, kld loss:10.5156, contrastive loss:5.5475, total loss:1.1305\n"
     ]
    },
    {
     "name": "stderr",
     "output_type": "stream",
     "text": [
      "Fine - tuning::  31%|███████████████████▏                                          | 31/100 [00:43<01:36,  1.40s/epoch]"
     ]
    },
    {
     "name": "stdout",
     "output_type": "stream",
     "text": [
      "Train epoch [31/500]. ZINB loss:0.4708, kld loss:10.5276, contrastive loss:5.5635, total loss:1.1324\n"
     ]
    },
    {
     "name": "stderr",
     "output_type": "stream",
     "text": [
      "Fine - tuning::  32%|███████████████████▊                                          | 32/100 [00:45<01:36,  1.42s/epoch]"
     ]
    },
    {
     "name": "stdout",
     "output_type": "stream",
     "text": [
      "Train epoch [32/500]. ZINB loss:0.4709, kld loss:10.5240, contrastive loss:5.5848, total loss:1.1346\n"
     ]
    },
    {
     "name": "stderr",
     "output_type": "stream",
     "text": [
      "Fine - tuning::  33%|████████████████████▍                                         | 33/100 [00:46<01:35,  1.43s/epoch]"
     ]
    },
    {
     "name": "stdout",
     "output_type": "stream",
     "text": [
      "Train epoch [33/500]. ZINB loss:0.4704, kld loss:10.5121, contrastive loss:5.5614, total loss:1.1316\n"
     ]
    },
    {
     "name": "stderr",
     "output_type": "stream",
     "text": [
      "Fine - tuning::  34%|█████████████████████                                         | 34/100 [00:48<01:34,  1.44s/epoch]"
     ]
    },
    {
     "name": "stdout",
     "output_type": "stream",
     "text": [
      "Train epoch [34/500]. ZINB loss:0.4708, kld loss:10.5212, contrastive loss:5.5424, total loss:1.1303\n"
     ]
    },
    {
     "name": "stderr",
     "output_type": "stream",
     "text": [
      "Fine - tuning::  35%|█████████████████████▋                                        | 35/100 [00:49<01:33,  1.44s/epoch]"
     ]
    },
    {
     "name": "stdout",
     "output_type": "stream",
     "text": [
      "Train epoch [35/500]. ZINB loss:0.4710, kld loss:10.5254, contrastive loss:5.5577, total loss:1.1320\n"
     ]
    },
    {
     "name": "stderr",
     "output_type": "stream",
     "text": [
      "Fine - tuning::  36%|██████████████████████▎                                       | 36/100 [00:51<01:30,  1.41s/epoch]"
     ]
    },
    {
     "name": "stdout",
     "output_type": "stream",
     "text": [
      "Train epoch [36/500]. ZINB loss:0.4708, kld loss:10.5155, contrastive loss:5.5280, total loss:1.1287\n"
     ]
    },
    {
     "name": "stderr",
     "output_type": "stream",
     "text": [
      "Fine - tuning::  37%|██████████████████████▉                                       | 37/100 [00:52<01:28,  1.41s/epoch]"
     ]
    },
    {
     "name": "stdout",
     "output_type": "stream",
     "text": [
      "Train epoch [37/500]. ZINB loss:0.4706, kld loss:10.5196, contrastive loss:5.5440, total loss:1.1302\n"
     ]
    },
    {
     "name": "stderr",
     "output_type": "stream",
     "text": [
      "Fine - tuning::  38%|███████████████████████▌                                      | 38/100 [00:53<01:27,  1.41s/epoch]"
     ]
    },
    {
     "name": "stdout",
     "output_type": "stream",
     "text": [
      "Train epoch [38/500]. ZINB loss:0.4709, kld loss:10.5225, contrastive loss:5.5509, total loss:1.1312\n"
     ]
    },
    {
     "name": "stderr",
     "output_type": "stream",
     "text": [
      "Fine - tuning::  39%|████████████████████████▏                                     | 39/100 [00:55<01:26,  1.42s/epoch]"
     ]
    },
    {
     "name": "stdout",
     "output_type": "stream",
     "text": [
      "Train epoch [39/500]. ZINB loss:0.4705, kld loss:10.5185, contrastive loss:5.5427, total loss:1.1300\n"
     ]
    },
    {
     "name": "stderr",
     "output_type": "stream",
     "text": [
      "Fine - tuning::  40%|████████████████████████▊                                     | 40/100 [00:56<01:25,  1.42s/epoch]"
     ]
    },
    {
     "name": "stdout",
     "output_type": "stream",
     "text": [
      "Train epoch [40/500]. ZINB loss:0.4708, kld loss:10.5234, contrastive loss:5.5452, total loss:1.1306\n"
     ]
    },
    {
     "name": "stderr",
     "output_type": "stream",
     "text": [
      "Fine - tuning::  41%|█████████████████████████▍                                    | 41/100 [00:58<01:24,  1.43s/epoch]"
     ]
    },
    {
     "name": "stdout",
     "output_type": "stream",
     "text": [
      "Train epoch [41/500]. ZINB loss:0.4706, kld loss:10.5183, contrastive loss:5.5620, total loss:1.1320\n"
     ]
    },
    {
     "name": "stderr",
     "output_type": "stream",
     "text": [
      "Fine - tuning::  42%|██████████████████████████                                    | 42/100 [00:59<01:22,  1.42s/epoch]"
     ]
    },
    {
     "name": "stdout",
     "output_type": "stream",
     "text": [
      "Train epoch [42/500]. ZINB loss:0.4707, kld loss:10.5317, contrastive loss:5.5425, total loss:1.1303\n"
     ]
    },
    {
     "name": "stderr",
     "output_type": "stream",
     "text": [
      "Fine - tuning::  43%|██████████████████████████▋                                   | 43/100 [01:01<01:20,  1.41s/epoch]"
     ]
    },
    {
     "name": "stdout",
     "output_type": "stream",
     "text": [
      "Train epoch [43/500]. ZINB loss:0.4709, kld loss:10.5335, contrastive loss:5.5434, total loss:1.1305\n"
     ]
    },
    {
     "name": "stderr",
     "output_type": "stream",
     "text": [
      "Fine - tuning::  44%|███████████████████████████▎                                  | 44/100 [01:02<01:18,  1.40s/epoch]"
     ]
    },
    {
     "name": "stdout",
     "output_type": "stream",
     "text": [
      "Train epoch [44/500]. ZINB loss:0.4705, kld loss:10.5125, contrastive loss:5.5595, total loss:1.1316\n"
     ]
    },
    {
     "name": "stderr",
     "output_type": "stream",
     "text": [
      "Fine - tuning::  45%|███████████████████████████▉                                  | 45/100 [01:03<01:17,  1.40s/epoch]"
     ]
    },
    {
     "name": "stdout",
     "output_type": "stream",
     "text": [
      "Train epoch [45/500]. ZINB loss:0.4706, kld loss:10.5258, contrastive loss:5.5446, total loss:1.1304\n"
     ]
    },
    {
     "name": "stderr",
     "output_type": "stream",
     "text": [
      "Fine - tuning::  46%|████████████████████████████▌                                 | 46/100 [01:05<01:15,  1.40s/epoch]"
     ]
    },
    {
     "name": "stdout",
     "output_type": "stream",
     "text": [
      "Train epoch [46/500]. ZINB loss:0.4708, kld loss:10.5324, contrastive loss:5.5412, total loss:1.1303\n"
     ]
    },
    {
     "name": "stderr",
     "output_type": "stream",
     "text": [
      "Fine - tuning::  47%|█████████████████████████████▏                                | 47/100 [01:06<01:14,  1.40s/epoch]"
     ]
    },
    {
     "name": "stdout",
     "output_type": "stream",
     "text": [
      "Train epoch [47/500]. ZINB loss:0.4705, kld loss:10.5182, contrastive loss:5.5388, total loss:1.1295\n"
     ]
    },
    {
     "name": "stderr",
     "output_type": "stream",
     "text": [
      "Fine - tuning::  48%|█████████████████████████████▊                                | 48/100 [01:08<01:12,  1.40s/epoch]"
     ]
    },
    {
     "name": "stdout",
     "output_type": "stream",
     "text": [
      "Train epoch [48/500]. ZINB loss:0.4705, kld loss:10.5153, contrastive loss:5.5503, total loss:1.1307\n"
     ]
    },
    {
     "name": "stderr",
     "output_type": "stream",
     "text": [
      "Fine - tuning::  49%|██████████████████████████████▍                               | 49/100 [01:09<01:12,  1.41s/epoch]"
     ]
    },
    {
     "name": "stdout",
     "output_type": "stream",
     "text": [
      "Train epoch [49/500]. ZINB loss:0.4706, kld loss:10.5215, contrastive loss:5.5620, total loss:1.1320\n"
     ]
    },
    {
     "name": "stderr",
     "output_type": "stream",
     "text": [
      "Fine - tuning::  50%|███████████████████████████████                               | 50/100 [01:10<01:10,  1.41s/epoch]"
     ]
    },
    {
     "name": "stdout",
     "output_type": "stream",
     "text": [
      "Train epoch [50/500]. ZINB loss:0.4706, kld loss:10.5171, contrastive loss:5.5565, total loss:1.1315\n"
     ]
    },
    {
     "name": "stderr",
     "output_type": "stream",
     "text": [
      "Fine - tuning::  51%|███████████████████████████████▌                              | 51/100 [01:12<01:09,  1.41s/epoch]"
     ]
    },
    {
     "name": "stdout",
     "output_type": "stream",
     "text": [
      "Train epoch [51/500]. ZINB loss:0.4705, kld loss:10.5183, contrastive loss:5.5808, total loss:1.1338\n"
     ]
    },
    {
     "name": "stderr",
     "output_type": "stream",
     "text": [
      "Fine - tuning::  52%|████████████████████████████████▏                             | 52/100 [01:13<01:08,  1.42s/epoch]"
     ]
    },
    {
     "name": "stdout",
     "output_type": "stream",
     "text": [
      "Train epoch [52/500]. ZINB loss:0.4707, kld loss:10.5298, contrastive loss:5.5459, total loss:1.1306\n"
     ]
    },
    {
     "name": "stderr",
     "output_type": "stream",
     "text": [
      "Fine - tuning::  53%|████████████████████████████████▊                             | 53/100 [01:15<01:07,  1.43s/epoch]"
     ]
    },
    {
     "name": "stdout",
     "output_type": "stream",
     "text": [
      "Train epoch [53/500]. ZINB loss:0.4704, kld loss:10.5214, contrastive loss:5.5421, total loss:1.1298\n"
     ]
    },
    {
     "name": "stderr",
     "output_type": "stream",
     "text": [
      "Fine - tuning::  54%|█████████████████████████████████▍                            | 54/100 [01:16<01:06,  1.44s/epoch]"
     ]
    },
    {
     "name": "stdout",
     "output_type": "stream",
     "text": [
      "Train epoch [54/500]. ZINB loss:0.4706, kld loss:10.5255, contrastive loss:5.5404, total loss:1.1299\n"
     ]
    },
    {
     "name": "stderr",
     "output_type": "stream",
     "text": [
      "Fine - tuning::  55%|██████████████████████████████████                            | 55/100 [01:18<01:04,  1.44s/epoch]"
     ]
    },
    {
     "name": "stdout",
     "output_type": "stream",
     "text": [
      "Train epoch [55/500]. ZINB loss:0.4707, kld loss:10.5262, contrastive loss:5.5761, total loss:1.1335\n"
     ]
    },
    {
     "name": "stderr",
     "output_type": "stream",
     "text": [
      "Fine - tuning::  56%|██████████████████████████████████▋                           | 56/100 [01:19<01:03,  1.43s/epoch]"
     ]
    },
    {
     "name": "stdout",
     "output_type": "stream",
     "text": [
      "Train epoch [56/500]. ZINB loss:0.4705, kld loss:10.5190, contrastive loss:5.5259, total loss:1.1283\n"
     ]
    },
    {
     "name": "stderr",
     "output_type": "stream",
     "text": [
      "Fine - tuning::  57%|███████████████████████████████████▎                          | 57/100 [01:20<01:01,  1.42s/epoch]"
     ]
    },
    {
     "name": "stdout",
     "output_type": "stream",
     "text": [
      "Train epoch [57/500]. ZINB loss:0.4706, kld loss:10.5217, contrastive loss:5.5402, total loss:1.1298\n"
     ]
    },
    {
     "name": "stderr",
     "output_type": "stream",
     "text": [
      "Fine - tuning::  58%|███████████████████████████████████▉                          | 58/100 [01:22<00:59,  1.43s/epoch]"
     ]
    },
    {
     "name": "stdout",
     "output_type": "stream",
     "text": [
      "Train epoch [58/500]. ZINB loss:0.4703, kld loss:10.5200, contrastive loss:5.5765, total loss:1.1331\n"
     ]
    },
    {
     "name": "stderr",
     "output_type": "stream",
     "text": [
      "Fine - tuning::  59%|████████████████████████████████████▌                         | 59/100 [01:23<00:58,  1.42s/epoch]"
     ]
    },
    {
     "name": "stdout",
     "output_type": "stream",
     "text": [
      "Train epoch [59/500]. ZINB loss:0.4708, kld loss:10.5277, contrastive loss:5.5548, total loss:1.1315\n"
     ]
    },
    {
     "name": "stderr",
     "output_type": "stream",
     "text": [
      "Fine - tuning::  60%|█████████████████████████████████████▏                        | 60/100 [01:25<00:56,  1.42s/epoch]"
     ]
    },
    {
     "name": "stdout",
     "output_type": "stream",
     "text": [
      "Train epoch [60/500]. ZINB loss:0.4706, kld loss:10.5199, contrastive loss:5.5736, total loss:1.1331\n"
     ]
    },
    {
     "name": "stderr",
     "output_type": "stream",
     "text": [
      "Fine - tuning::  61%|█████████████████████████████████████▊                        | 61/100 [01:26<00:56,  1.44s/epoch]"
     ]
    },
    {
     "name": "stdout",
     "output_type": "stream",
     "text": [
      "Train epoch [61/500]. ZINB loss:0.4707, kld loss:10.5235, contrastive loss:5.5455, total loss:1.1305\n"
     ]
    },
    {
     "name": "stderr",
     "output_type": "stream",
     "text": [
      "Fine - tuning::  62%|██████████████████████████████████████▍                       | 62/100 [01:28<00:55,  1.45s/epoch]"
     ]
    },
    {
     "name": "stdout",
     "output_type": "stream",
     "text": [
      "Train epoch [62/500]. ZINB loss:0.4705, kld loss:10.5234, contrastive loss:5.5427, total loss:1.1300\n"
     ]
    },
    {
     "name": "stderr",
     "output_type": "stream",
     "text": [
      "Fine - tuning::  63%|███████████████████████████████████████                       | 63/100 [01:29<00:53,  1.44s/epoch]"
     ]
    },
    {
     "name": "stdout",
     "output_type": "stream",
     "text": [
      "Train epoch [63/500]. ZINB loss:0.4702, kld loss:10.5169, contrastive loss:5.5479, total loss:1.1302\n"
     ]
    },
    {
     "name": "stderr",
     "output_type": "stream",
     "text": [
      "Fine - tuning::  64%|███████████████████████████████████████▋                      | 64/100 [01:30<00:51,  1.43s/epoch]"
     ]
    },
    {
     "name": "stdout",
     "output_type": "stream",
     "text": [
      "Train epoch [64/500]. ZINB loss:0.4703, kld loss:10.5116, contrastive loss:5.5353, total loss:1.1290\n"
     ]
    },
    {
     "name": "stderr",
     "output_type": "stream",
     "text": [
      "Fine - tuning::  65%|████████████████████████████████████████▎                     | 65/100 [01:32<00:50,  1.44s/epoch]"
     ]
    },
    {
     "name": "stdout",
     "output_type": "stream",
     "text": [
      "Train epoch [65/500]. ZINB loss:0.4705, kld loss:10.5169, contrastive loss:5.5514, total loss:1.1308\n"
     ]
    },
    {
     "name": "stderr",
     "output_type": "stream",
     "text": [
      "Fine - tuning::  66%|████████████████████████████████████████▉                     | 66/100 [01:33<00:48,  1.43s/epoch]"
     ]
    },
    {
     "name": "stdout",
     "output_type": "stream",
     "text": [
      "Train epoch [66/500]. ZINB loss:0.4701, kld loss:10.5092, contrastive loss:5.5359, total loss:1.1288\n"
     ]
    },
    {
     "name": "stderr",
     "output_type": "stream",
     "text": [
      "Fine - tuning::  67%|█████████████████████████████████████████▌                    | 67/100 [01:35<00:47,  1.43s/epoch]"
     ]
    },
    {
     "name": "stdout",
     "output_type": "stream",
     "text": [
      "Train epoch [67/500]. ZINB loss:0.4704, kld loss:10.5222, contrastive loss:5.5839, total loss:1.1340\n"
     ]
    },
    {
     "name": "stderr",
     "output_type": "stream",
     "text": [
      "Fine - tuning::  68%|██████████████████████████████████████████▏                   | 68/100 [01:36<00:45,  1.42s/epoch]"
     ]
    },
    {
     "name": "stdout",
     "output_type": "stream",
     "text": [
      "Train epoch [68/500]. ZINB loss:0.4702, kld loss:10.5210, contrastive loss:5.5558, total loss:1.1310\n"
     ]
    },
    {
     "name": "stderr",
     "output_type": "stream",
     "text": [
      "Fine - tuning::  69%|██████████████████████████████████████████▊                   | 69/100 [01:38<00:44,  1.42s/epoch]"
     ]
    },
    {
     "name": "stdout",
     "output_type": "stream",
     "text": [
      "Train epoch [69/500]. ZINB loss:0.4704, kld loss:10.5220, contrastive loss:5.5671, total loss:1.1323\n"
     ]
    },
    {
     "name": "stderr",
     "output_type": "stream",
     "text": [
      "Fine - tuning::  70%|███████████████████████████████████████████▍                  | 70/100 [01:39<00:42,  1.42s/epoch]"
     ]
    },
    {
     "name": "stdout",
     "output_type": "stream",
     "text": [
      "Train epoch [70/500]. ZINB loss:0.4702, kld loss:10.5125, contrastive loss:5.5486, total loss:1.1302\n"
     ]
    },
    {
     "name": "stderr",
     "output_type": "stream",
     "text": [
      "Fine - tuning::  71%|████████████████████████████████████████████                  | 71/100 [01:40<00:41,  1.41s/epoch]"
     ]
    },
    {
     "name": "stdout",
     "output_type": "stream",
     "text": [
      "Train epoch [71/500]. ZINB loss:0.4705, kld loss:10.5228, contrastive loss:5.5640, total loss:1.1321\n"
     ]
    },
    {
     "name": "stderr",
     "output_type": "stream",
     "text": [
      "Fine - tuning::  72%|████████████████████████████████████████████▋                 | 72/100 [01:42<00:39,  1.42s/epoch]"
     ]
    },
    {
     "name": "stdout",
     "output_type": "stream",
     "text": [
      "Train epoch [72/500]. ZINB loss:0.4700, kld loss:10.5189, contrastive loss:5.5580, total loss:1.1310\n"
     ]
    },
    {
     "name": "stderr",
     "output_type": "stream",
     "text": [
      "Fine - tuning::  73%|█████████████████████████████████████████████▎                | 73/100 [01:43<00:38,  1.42s/epoch]"
     ]
    },
    {
     "name": "stdout",
     "output_type": "stream",
     "text": [
      "Train epoch [73/500]. ZINB loss:0.4706, kld loss:10.5264, contrastive loss:5.5476, total loss:1.1307\n"
     ]
    },
    {
     "name": "stderr",
     "output_type": "stream",
     "text": [
      "Fine - tuning::  74%|█████████████████████████████████████████████▉                | 74/100 [01:45<00:36,  1.40s/epoch]"
     ]
    },
    {
     "name": "stdout",
     "output_type": "stream",
     "text": [
      "Train epoch [74/500]. ZINB loss:0.4703, kld loss:10.5170, contrastive loss:5.5568, total loss:1.1312\n"
     ]
    },
    {
     "name": "stderr",
     "output_type": "stream",
     "text": [
      "Fine - tuning::  75%|██████████████████████████████████████████████▌               | 75/100 [01:46<00:35,  1.41s/epoch]"
     ]
    },
    {
     "name": "stdout",
     "output_type": "stream",
     "text": [
      "Train epoch [75/500]. ZINB loss:0.4706, kld loss:10.5263, contrastive loss:5.5552, total loss:1.1314\n"
     ]
    },
    {
     "name": "stderr",
     "output_type": "stream",
     "text": [
      "Fine - tuning::  76%|███████████████████████████████████████████████               | 76/100 [01:47<00:34,  1.42s/epoch]"
     ]
    },
    {
     "name": "stdout",
     "output_type": "stream",
     "text": [
      "Train epoch [76/500]. ZINB loss:0.4704, kld loss:10.5212, contrastive loss:5.5321, total loss:1.1288\n"
     ]
    },
    {
     "name": "stderr",
     "output_type": "stream",
     "text": [
      "Fine - tuning::  77%|███████████████████████████████████████████████▋              | 77/100 [01:49<00:32,  1.43s/epoch]"
     ]
    },
    {
     "name": "stdout",
     "output_type": "stream",
     "text": [
      "Train epoch [77/500]. ZINB loss:0.4703, kld loss:10.5261, contrastive loss:5.5466, total loss:1.1302\n"
     ]
    },
    {
     "name": "stderr",
     "output_type": "stream",
     "text": [
      "Fine - tuning::  78%|████████████████████████████████████████████████▎             | 78/100 [01:50<00:30,  1.41s/epoch]"
     ]
    },
    {
     "name": "stdout",
     "output_type": "stream",
     "text": [
      "Train epoch [78/500]. ZINB loss:0.4702, kld loss:10.5231, contrastive loss:5.5552, total loss:1.1310\n"
     ]
    },
    {
     "name": "stderr",
     "output_type": "stream",
     "text": [
      "Fine - tuning::  79%|████████████████████████████████████████████████▉             | 79/100 [01:52<00:29,  1.40s/epoch]"
     ]
    },
    {
     "name": "stdout",
     "output_type": "stream",
     "text": [
      "Train epoch [79/500]. ZINB loss:0.4703, kld loss:10.5275, contrastive loss:5.5663, total loss:1.1322\n"
     ]
    },
    {
     "name": "stderr",
     "output_type": "stream",
     "text": [
      "Fine - tuning::  80%|█████████████████████████████████████████████████▌            | 80/100 [01:53<00:28,  1.41s/epoch]"
     ]
    },
    {
     "name": "stdout",
     "output_type": "stream",
     "text": [
      "Train epoch [80/500]. ZINB loss:0.4703, kld loss:10.5199, contrastive loss:5.5419, total loss:1.1297\n"
     ]
    },
    {
     "name": "stderr",
     "output_type": "stream",
     "text": [
      "Fine - tuning::  81%|██████████████████████████████████████████████████▏           | 81/100 [01:54<00:26,  1.41s/epoch]"
     ]
    },
    {
     "name": "stdout",
     "output_type": "stream",
     "text": [
      "Train epoch [81/500]. ZINB loss:0.4703, kld loss:10.5233, contrastive loss:5.5298, total loss:1.1285\n"
     ]
    },
    {
     "name": "stderr",
     "output_type": "stream",
     "text": [
      "Fine - tuning::  82%|██████████████████████████████████████████████████▊           | 82/100 [01:56<00:25,  1.41s/epoch]"
     ]
    },
    {
     "name": "stdout",
     "output_type": "stream",
     "text": [
      "Train epoch [82/500]. ZINB loss:0.4703, kld loss:10.5139, contrastive loss:5.5543, total loss:1.1309\n"
     ]
    },
    {
     "name": "stderr",
     "output_type": "stream",
     "text": [
      "Fine - tuning::  83%|███████████████████████████████████████████████████▍          | 83/100 [01:57<00:23,  1.41s/epoch]"
     ]
    },
    {
     "name": "stdout",
     "output_type": "stream",
     "text": [
      "Train epoch [83/500]. ZINB loss:0.4702, kld loss:10.5265, contrastive loss:5.5598, total loss:1.1315\n"
     ]
    },
    {
     "name": "stderr",
     "output_type": "stream",
     "text": [
      "Fine - tuning::  84%|████████████████████████████████████████████████████          | 84/100 [01:59<00:22,  1.41s/epoch]"
     ]
    },
    {
     "name": "stdout",
     "output_type": "stream",
     "text": [
      "Train epoch [84/500]. ZINB loss:0.4701, kld loss:10.5148, contrastive loss:5.5559, total loss:1.1308\n"
     ]
    },
    {
     "name": "stderr",
     "output_type": "stream",
     "text": [
      "Fine - tuning::  85%|████████████████████████████████████████████████████▋         | 85/100 [02:00<00:21,  1.43s/epoch]"
     ]
    },
    {
     "name": "stdout",
     "output_type": "stream",
     "text": [
      "Train epoch [85/500]. ZINB loss:0.4702, kld loss:10.5166, contrastive loss:5.5496, total loss:1.1303\n"
     ]
    },
    {
     "name": "stderr",
     "output_type": "stream",
     "text": [
      "Fine - tuning::  86%|█████████████████████████████████████████████████████▎        | 86/100 [02:02<00:19,  1.43s/epoch]"
     ]
    },
    {
     "name": "stdout",
     "output_type": "stream",
     "text": [
      "Train epoch [86/500]. ZINB loss:0.4705, kld loss:10.5179, contrastive loss:5.5612, total loss:1.1318\n"
     ]
    },
    {
     "name": "stderr",
     "output_type": "stream",
     "text": [
      "Fine - tuning::  87%|█████████████████████████████████████████████████████▉        | 87/100 [02:03<00:18,  1.44s/epoch]"
     ]
    },
    {
     "name": "stdout",
     "output_type": "stream",
     "text": [
      "Train epoch [87/500]. ZINB loss:0.4703, kld loss:10.5239, contrastive loss:5.5374, total loss:1.1293\n"
     ]
    },
    {
     "name": "stderr",
     "output_type": "stream",
     "text": [
      "Fine - tuning::  88%|██████████████████████████████████████████████████████▌       | 88/100 [02:04<00:17,  1.43s/epoch]"
     ]
    },
    {
     "name": "stdout",
     "output_type": "stream",
     "text": [
      "Train epoch [88/500]. ZINB loss:0.4702, kld loss:10.5226, contrastive loss:5.5542, total loss:1.1309\n"
     ]
    },
    {
     "name": "stderr",
     "output_type": "stream",
     "text": [
      "Fine - tuning::  89%|███████████████████████████████████████████████████████▏      | 89/100 [02:06<00:15,  1.44s/epoch]"
     ]
    },
    {
     "name": "stdout",
     "output_type": "stream",
     "text": [
      "Train epoch [89/500]. ZINB loss:0.4703, kld loss:10.5227, contrastive loss:5.5375, total loss:1.1293\n"
     ]
    },
    {
     "name": "stderr",
     "output_type": "stream",
     "text": [
      "Fine - tuning::  90%|███████████████████████████████████████████████████████▊      | 90/100 [02:07<00:14,  1.44s/epoch]"
     ]
    },
    {
     "name": "stdout",
     "output_type": "stream",
     "text": [
      "Train epoch [90/500]. ZINB loss:0.4704, kld loss:10.5217, contrastive loss:5.5477, total loss:1.1304\n"
     ]
    },
    {
     "name": "stderr",
     "output_type": "stream",
     "text": [
      "Fine - tuning::  91%|████████████████████████████████████████████████████████▍     | 91/100 [02:09<00:12,  1.44s/epoch]"
     ]
    },
    {
     "name": "stdout",
     "output_type": "stream",
     "text": [
      "Train epoch [91/500]. ZINB loss:0.4702, kld loss:10.5244, contrastive loss:5.5324, total loss:1.1287\n"
     ]
    },
    {
     "name": "stderr",
     "output_type": "stream",
     "text": [
      "Fine - tuning::  92%|█████████████████████████████████████████████████████████     | 92/100 [02:10<00:11,  1.45s/epoch]"
     ]
    },
    {
     "name": "stdout",
     "output_type": "stream",
     "text": [
      "Train epoch [92/500]. ZINB loss:0.4704, kld loss:10.5254, contrastive loss:5.5451, total loss:1.1302\n"
     ]
    },
    {
     "name": "stderr",
     "output_type": "stream",
     "text": [
      "Fine - tuning::  93%|█████████████████████████████████████████████████████████▋    | 93/100 [02:12<00:10,  1.46s/epoch]"
     ]
    },
    {
     "name": "stdout",
     "output_type": "stream",
     "text": [
      "Train epoch [93/500]. ZINB loss:0.4702, kld loss:10.5224, contrastive loss:5.5392, total loss:1.1294\n"
     ]
    },
    {
     "name": "stderr",
     "output_type": "stream",
     "text": [
      "Fine - tuning::  94%|██████████████████████████████████████████████████████████▎   | 94/100 [02:13<00:08,  1.45s/epoch]"
     ]
    },
    {
     "name": "stdout",
     "output_type": "stream",
     "text": [
      "Train epoch [94/500]. ZINB loss:0.4701, kld loss:10.5150, contrastive loss:5.5469, total loss:1.1299\n"
     ]
    },
    {
     "name": "stderr",
     "output_type": "stream",
     "text": [
      "Fine - tuning::  95%|██████████████████████████████████████████████████████████▉   | 95/100 [02:15<00:07,  1.46s/epoch]"
     ]
    },
    {
     "name": "stdout",
     "output_type": "stream",
     "text": [
      "Train epoch [95/500]. ZINB loss:0.4701, kld loss:10.5195, contrastive loss:5.5288, total loss:1.1282\n"
     ]
    },
    {
     "name": "stderr",
     "output_type": "stream",
     "text": [
      "Fine - tuning::  96%|███████████████████████████████████████████████████████████▌  | 96/100 [02:16<00:05,  1.46s/epoch]"
     ]
    },
    {
     "name": "stdout",
     "output_type": "stream",
     "text": [
      "Train epoch [96/500]. ZINB loss:0.4701, kld loss:10.5157, contrastive loss:5.5668, total loss:1.1320\n"
     ]
    },
    {
     "name": "stderr",
     "output_type": "stream",
     "text": [
      "Fine - tuning::  97%|████████████████████████████████████████████████████████████▏ | 97/100 [02:18<00:04,  1.43s/epoch]"
     ]
    },
    {
     "name": "stdout",
     "output_type": "stream",
     "text": [
      "Train epoch [97/500]. ZINB loss:0.4704, kld loss:10.5271, contrastive loss:5.5192, total loss:1.1276\n"
     ]
    },
    {
     "name": "stderr",
     "output_type": "stream",
     "text": [
      "Fine - tuning::  98%|████████████████████████████████████████████████████████████▊ | 98/100 [02:19<00:02,  1.42s/epoch]"
     ]
    },
    {
     "name": "stdout",
     "output_type": "stream",
     "text": [
      "Train epoch [98/500]. ZINB loss:0.4699, kld loss:10.5098, contrastive loss:5.5236, total loss:1.1274\n"
     ]
    },
    {
     "name": "stderr",
     "output_type": "stream",
     "text": [
      "Fine - tuning::  99%|█████████████████████████████████████████████████████████████▍| 99/100 [02:20<00:01,  1.42s/epoch]"
     ]
    },
    {
     "name": "stdout",
     "output_type": "stream",
     "text": [
      "Train epoch [99/500]. ZINB loss:0.4700, kld loss:10.5153, contrastive loss:5.5565, total loss:1.1308\n"
     ]
    },
    {
     "name": "stderr",
     "output_type": "stream",
     "text": [
      "Fine - tuning:: 100%|█████████████████████████████████████████████████████████████| 100/100 [02:22<00:00,  1.42s/epoch]"
     ]
    },
    {
     "name": "stdout",
     "output_type": "stream",
     "text": [
      "Train epoch [100/500]. ZINB loss:0.4701, kld loss:10.5202, contrastive loss:5.5551, total loss:1.1308\n",
      "Finish pre-training!\n",
      "Perform initial clustering through leiden with resolution = 2\n"
     ]
    },
    {
     "name": "stderr",
     "output_type": "stream",
     "text": [
      "\n"
     ]
    },
    {
     "name": "stdout",
     "output_type": "stream",
     "text": [
      "Finish initial clustering! Number of initial clusters is 28\n",
      "Initial Clustering: NMI= 0.6127, ARI= 0.3244\n",
      "Start training! Total epochs is 500.\n"
     ]
    },
    {
     "name": "stderr",
     "output_type": "stream",
     "text": [
      "Training::   0%|▏                                                                   | 1/500 [00:01<13:36,  1.64s/epoch]"
     ]
    },
    {
     "name": "stdout",
     "output_type": "stream",
     "text": [
      "Train epoch [1/500]. ZINB loss:0.4697, kld loss:16.6760, cluster loss:0.7379, contrastive loss:5.5336, total loss:2.0383\n",
      "Clustering   1: NMI= 0.6267, ARI= 0.3464, Delta=0.1175\n"
     ]
    },
    {
     "name": "stderr",
     "output_type": "stream",
     "text": [
      "Training::   0%|▎                                                                   | 2/500 [00:03<13:00,  1.57s/epoch]"
     ]
    },
    {
     "name": "stdout",
     "output_type": "stream",
     "text": [
      "Train epoch [2/500]. ZINB loss:0.4678, kld loss:28.5739, cluster loss:0.4693, contrastive loss:5.5806, total loss:1.8919\n",
      "Clustering   2: NMI= 0.6246, ARI= 0.3464, Delta=0.0941\n"
     ]
    },
    {
     "name": "stderr",
     "output_type": "stream",
     "text": [
      "Training::   1%|▍                                                                   | 3/500 [00:04<12:36,  1.52s/epoch]"
     ]
    },
    {
     "name": "stdout",
     "output_type": "stream",
     "text": [
      "Train epoch [3/500]. ZINB loss:0.4687, kld loss:31.5531, cluster loss:0.4618, contrastive loss:5.5350, total loss:1.9090\n",
      "Clustering   3: NMI= 0.6246, ARI= 0.3484, Delta=0.0770\n",
      "Reach tolerance threshold. Perform cluster merging.\n",
      "-----------------iter: 1-----------------\n",
      "n_clusters: 27\n",
      "count_true: 351\n",
      "count: 285\n",
      "-----------------iter: 2-----------------\n",
      "n_clusters: 26\n",
      "count_true: 325\n",
      "count: 265\n",
      "-----------------iter: 3-----------------\n",
      "n_clusters: 25\n",
      "count_true: 300\n",
      "count: 248\n",
      "-----------------iter: 4-----------------\n",
      "n_clusters: 24\n",
      "count_true: 276\n",
      "count: 230\n",
      "-----------------iter: 5-----------------\n",
      "n_clusters: 23\n",
      "count_true: 253\n",
      "count: 213\n",
      "-----------------iter: 6-----------------\n",
      "n_clusters: 22\n",
      "count_true: 231\n",
      "count: 214\n",
      "-----------------iter: 7-----------------\n",
      "n_clusters: 21\n",
      "count_true: 210\n",
      "count: 194\n",
      "-----------------iter: 8-----------------\n",
      "n_clusters: 20\n",
      "count_true: 190\n",
      "count: 178\n",
      "-----------------iter: 9-----------------\n",
      "n_clusters: 19\n",
      "count_true: 171\n",
      "count: 161\n",
      "-----------------iter: 10-----------------\n",
      "n_clusters: 18\n",
      "count_true: 153\n",
      "count: 147\n",
      "-----------------iter: 11-----------------\n",
      "n_clusters: 17\n",
      "count_true: 136\n",
      "count: 130\n",
      "-----------------iter: 12-----------------\n",
      "n_clusters: 16\n",
      "count_true: 120\n",
      "count: 116\n",
      "-----------------iter: 13-----------------\n",
      "n_clusters: 15\n",
      "count_true: 105\n",
      "count: 100\n",
      "-----------------iter: 14-----------------\n",
      "n_clusters: 14\n",
      "count_true: 91\n",
      "count: 87\n",
      "-----------------iter: 15-----------------\n",
      "n_clusters: 13\n",
      "count_true: 78\n",
      "count: 76\n",
      "-----------------iter: 16-----------------\n",
      "n_clusters: 12\n",
      "count_true: 66\n",
      "count: 65\n",
      "-----------------iter: 17-----------------\n",
      "n_clusters: 11\n",
      "count_true: 55\n",
      "count: 55\n",
      "Reach count!\n"
     ]
    },
    {
     "name": "stderr",
     "output_type": "stream",
     "text": [
      "Training::   1%|▌                                                                   | 4/500 [00:06<13:06,  1.58s/epoch]"
     ]
    },
    {
     "name": "stdout",
     "output_type": "stream",
     "text": [
      "Train epoch [4/500]. ZINB loss:0.4696, kld loss:34.0741, cluster loss:0.4279, contrastive loss:5.6026, total loss:1.9085\n",
      "Clustering   4: NMI= 0.7537, ARI= 0.6064, Delta=0.0347\n"
     ]
    },
    {
     "name": "stderr",
     "output_type": "stream",
     "text": [
      "Training::   1%|▋                                                                   | 5/500 [00:07<12:54,  1.56s/epoch]"
     ]
    },
    {
     "name": "stdout",
     "output_type": "stream",
     "text": [
      "Train epoch [5/500]. ZINB loss:0.4695, kld loss:35.8424, cluster loss:0.4195, contrastive loss:5.5859, total loss:1.9151\n",
      "Clustering   5: NMI= 0.7572, ARI= 0.6263, Delta=0.6991\n",
      "Reach tolerance threshold. Perform cluster merging.\n",
      "-----------------iter: 1-----------------\n",
      "n_clusters: 10\n",
      "count_true: 45\n",
      "count: 43\n",
      "-----------------iter: 2-----------------\n",
      "n_clusters: 9\n",
      "count_true: 36\n",
      "count: 35\n",
      "-----------------iter: 3-----------------\n",
      "n_clusters: 8\n",
      "count_true: 28\n",
      "count: 23\n",
      "-----------------iter: 4-----------------\n",
      "n_clusters: 7\n",
      "count_true: 21\n",
      "count: 21\n",
      "Reach count!\n"
     ]
    },
    {
     "name": "stderr",
     "output_type": "stream",
     "text": [
      "Training::   1%|▊                                                                   | 6/500 [00:09<12:42,  1.54s/epoch]"
     ]
    },
    {
     "name": "stdout",
     "output_type": "stream",
     "text": [
      "Train epoch [6/500]. ZINB loss:0.4708, kld loss:35.3492, cluster loss:0.3865, contrastive loss:5.6019, total loss:1.8797\n",
      "Clustering   6: NMI= 0.7956, ARI= 0.7808, Delta=0.0382\n"
     ]
    },
    {
     "name": "stderr",
     "output_type": "stream",
     "text": [
      "Training::   1%|▉                                                                   | 7/500 [00:10<12:23,  1.51s/epoch]"
     ]
    },
    {
     "name": "stdout",
     "output_type": "stream",
     "text": [
      "Train epoch [7/500]. ZINB loss:0.4702, kld loss:35.8965, cluster loss:0.3875, contrastive loss:5.6071, total loss:1.8854\n",
      "Clustering   7: NMI= 0.8032, ARI= 0.7826, Delta=0.6776\n",
      "Reach tolerance threshold. Perform cluster merging.\n",
      "-----------------iter: 1-----------------\n",
      "n_clusters: 7\n",
      "count_true: 21\n",
      "count: 21\n",
      "Reach count!\n",
      "Stop merging clusters! Continue updating several rounds.\n"
     ]
    },
    {
     "name": "stderr",
     "output_type": "stream",
     "text": [
      "Training::   2%|█                                                                   | 8/500 [00:12<12:15,  1.50s/epoch]"
     ]
    },
    {
     "name": "stdout",
     "output_type": "stream",
     "text": [
      "Train epoch [8/500]. ZINB loss:0.4705, kld loss:36.3404, cluster loss:0.3837, contrastive loss:5.6025, total loss:1.8852\n",
      "Clustering   8: NMI= 0.7993, ARI= 0.7808, Delta=0.0089\n"
     ]
    },
    {
     "name": "stderr",
     "output_type": "stream",
     "text": [
      "Training::   2%|█▏                                                                  | 9/500 [00:13<12:26,  1.52s/epoch]"
     ]
    },
    {
     "name": "stdout",
     "output_type": "stream",
     "text": [
      "Train epoch [9/500]. ZINB loss:0.4703, kld loss:36.7565, cluster loss:0.3842, contrastive loss:5.6553, total loss:1.8953\n",
      "Clustering   9: NMI= 0.7989, ARI= 0.7813, Delta=0.0061\n",
      "Reach tolerance threshold. Stopping training.\n",
      "Total time: 431.2770118713379 seconds\n"
     ]
    },
    {
     "name": "stderr",
     "output_type": "stream",
     "text": [
      "\n"
     ]
    }
   ],
   "source": [
    "adata, nmi, ari, K, pred_all, emb_all, run_time= run_scaclc(adata, cl_type='celltype', return_all=True,seed=seed, \n",
    "    n_top_hvg=3000, \n",
    "    n_top_rfg=3000  )"
   ]
  },
  {
   "cell_type": "code",
   "execution_count": 9,
   "id": "209ae2fb-f12c-4c8d-8e0d-06efcf142284",
   "metadata": {},
   "outputs": [
    {
     "name": "stdout",
     "output_type": "stream",
     "text": [
      "ARI = 0.78131, NMI = 0.79888\n"
     ]
    }
   ],
   "source": [
    "print(\"ARI = {}, NMI = {}\".format(ari, nmi))"
   ]
  }
  
